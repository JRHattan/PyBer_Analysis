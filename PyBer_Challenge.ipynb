{
  "nbformat": 4,
  "nbformat_minor": 0,
  "metadata": {
    "anaconda-cloud": {},
    "kernelspec": {
      "display_name": "PythonData",
      "language": "python",
      "name": "pythondata"
    },
    "language_info": {
      "codemirror_mode": {
        "name": "ipython",
        "version": 3
      },
      "file_extension": ".py",
      "mimetype": "text/x-python",
      "name": "python",
      "nbconvert_exporter": "python",
      "pygments_lexer": "ipython3",
      "version": "3.6.10"
    },
    "colab": {
      "name": "PyBer_Challenge.ipynb",
      "provenance": [],
      "collapsed_sections": [],
      "toc_visible": true
    }
  },
  "cells": [
    {
      "cell_type": "markdown",
      "metadata": {
        "id": "c0uao86fIBo8",
        "colab_type": "text"
      },
      "source": [
        "# Pyber Challenge"
      ]
    },
    {
      "cell_type": "markdown",
      "metadata": {
        "id": "kIbFnV2SIBo-",
        "colab_type": "text"
      },
      "source": [
        "### 4.3 Loading and Reading CSV files"
      ]
    },
    {
      "cell_type": "code",
      "metadata": {
        "id": "SghEZsxRIBo_",
        "colab_type": "code",
        "colab": {}
      },
      "source": [
        "# Add Matplotlib inline magic command\n",
        "%matplotlib inline\n",
        "# Dependencies and Setup\n",
        "import matplotlib.pyplot as plt\n",
        "import pandas as pd\n",
        "\n",
        "# File to Load (Remember to change these)\n",
        "city_data_to_load = \"city_data.csv\"\n",
        "ride_data_to_load = \"ride_data.csv\"\n",
        "\n",
        "# Read the City and Ride Data\n",
        "city_data_df = pd.read_csv(city_data_to_load)\n",
        "ride_data_df = pd.read_csv(ride_data_to_load)"
      ],
      "execution_count": 4,
      "outputs": []
    },
    {
      "cell_type": "markdown",
      "metadata": {
        "id": "FnzR4JsiIBpE",
        "colab_type": "text"
      },
      "source": [
        "### Merge the DataFrames"
      ]
    },
    {
      "cell_type": "code",
      "metadata": {
        "scrolled": true,
        "id": "S5ebZcudIBpF",
        "colab_type": "code",
        "colab": {
          "base_uri": "https://localhost:8080/",
          "height": 204
        },
        "outputId": "4c8326a6-9b09-4e98-c2f5-87f08fdda4b7"
      },
      "source": [
        "# Combine the data into a single dataset\n",
        "pyber_data_df = pd.merge(ride_data_df, city_data_df, how=\"left\", on=[\"city\", \"city\"])\n",
        "\n",
        "# Display the data table for preview\n",
        "pyber_data_df.head()"
      ],
      "execution_count": 5,
      "outputs": [
        {
          "output_type": "execute_result",
          "data": {
            "text/html": [
              "<div>\n",
              "<style scoped>\n",
              "    .dataframe tbody tr th:only-of-type {\n",
              "        vertical-align: middle;\n",
              "    }\n",
              "\n",
              "    .dataframe tbody tr th {\n",
              "        vertical-align: top;\n",
              "    }\n",
              "\n",
              "    .dataframe thead th {\n",
              "        text-align: right;\n",
              "    }\n",
              "</style>\n",
              "<table border=\"1\" class=\"dataframe\">\n",
              "  <thead>\n",
              "    <tr style=\"text-align: right;\">\n",
              "      <th></th>\n",
              "      <th>city</th>\n",
              "      <th>date</th>\n",
              "      <th>fare</th>\n",
              "      <th>ride_id</th>\n",
              "      <th>driver_count</th>\n",
              "      <th>type</th>\n",
              "    </tr>\n",
              "  </thead>\n",
              "  <tbody>\n",
              "    <tr>\n",
              "      <th>0</th>\n",
              "      <td>Lake Jonathanshire</td>\n",
              "      <td>2019-01-14 10:14:22</td>\n",
              "      <td>13.83</td>\n",
              "      <td>5739410935873</td>\n",
              "      <td>5</td>\n",
              "      <td>Urban</td>\n",
              "    </tr>\n",
              "    <tr>\n",
              "      <th>1</th>\n",
              "      <td>South Michelleport</td>\n",
              "      <td>2019-03-04 18:24:09</td>\n",
              "      <td>30.24</td>\n",
              "      <td>2343912425577</td>\n",
              "      <td>72</td>\n",
              "      <td>Urban</td>\n",
              "    </tr>\n",
              "    <tr>\n",
              "      <th>2</th>\n",
              "      <td>Port Samanthamouth</td>\n",
              "      <td>2019-02-24 04:29:00</td>\n",
              "      <td>33.44</td>\n",
              "      <td>2005065760003</td>\n",
              "      <td>57</td>\n",
              "      <td>Urban</td>\n",
              "    </tr>\n",
              "    <tr>\n",
              "      <th>3</th>\n",
              "      <td>Rodneyfort</td>\n",
              "      <td>2019-02-10 23:22:03</td>\n",
              "      <td>23.44</td>\n",
              "      <td>5149245426178</td>\n",
              "      <td>34</td>\n",
              "      <td>Urban</td>\n",
              "    </tr>\n",
              "    <tr>\n",
              "      <th>4</th>\n",
              "      <td>South Jack</td>\n",
              "      <td>2019-03-06 04:28:35</td>\n",
              "      <td>34.58</td>\n",
              "      <td>3908451377344</td>\n",
              "      <td>46</td>\n",
              "      <td>Urban</td>\n",
              "    </tr>\n",
              "  </tbody>\n",
              "</table>\n",
              "</div>"
            ],
            "text/plain": [
              "                 city                 date  ...  driver_count   type\n",
              "0  Lake Jonathanshire  2019-01-14 10:14:22  ...             5  Urban\n",
              "1  South Michelleport  2019-03-04 18:24:09  ...            72  Urban\n",
              "2  Port Samanthamouth  2019-02-24 04:29:00  ...            57  Urban\n",
              "3          Rodneyfort  2019-02-10 23:22:03  ...            34  Urban\n",
              "4          South Jack  2019-03-06 04:28:35  ...            46  Urban\n",
              "\n",
              "[5 rows x 6 columns]"
            ]
          },
          "metadata": {
            "tags": []
          },
          "execution_count": 5
        }
      ]
    },
    {
      "cell_type": "markdown",
      "metadata": {
        "id": "4i-C8KLEIBpI",
        "colab_type": "text"
      },
      "source": [
        "## Deliverable 1: Get a Summary DataFrame "
      ]
    },
    {
      "cell_type": "code",
      "metadata": {
        "id": "vR3HnpRgIBpI",
        "colab_type": "code",
        "colab": {
          "base_uri": "https://localhost:8080/",
          "height": 34
        },
        "outputId": "f28941b6-592d-401e-f4a4-7df44f9496d4"
      },
      "source": [
        "#  1. Get the total rides for each city type\n",
        "pyber_data_df[\"type\"].unique()\n",
        "urban_rides = sum(pyber_data_df[\"type\"]==\"Urban\")\n",
        "suburban_rides = sum(pyber_data_df[\"type\"]==\"Suburban\")\n",
        "rural_rides = sum(pyber_data_df[\"type\"]==\"Rural\")\n",
        "total_rides = urban_rides + suburban_rides + rural_rides\n",
        "total_rides"
      ],
      "execution_count": 16,
      "outputs": [
        {
          "output_type": "execute_result",
          "data": {
            "text/plain": [
              "2375"
            ]
          },
          "metadata": {
            "tags": []
          },
          "execution_count": 16
        }
      ]
    },
    {
      "cell_type": "code",
      "metadata": {
        "id": "pNzOnU0CIBpL",
        "colab_type": "code",
        "colab": {}
      },
      "source": [
        "# 2. Get the total drivers for each city type\n"
      ],
      "execution_count": null,
      "outputs": []
    },
    {
      "cell_type": "code",
      "metadata": {
        "id": "CfsNhP8ZIBpN",
        "colab_type": "code",
        "colab": {}
      },
      "source": [
        "#  3. Get the total amount of fares for each city type\n"
      ],
      "execution_count": null,
      "outputs": []
    },
    {
      "cell_type": "code",
      "metadata": {
        "id": "xTdYiTrhIBpQ",
        "colab_type": "code",
        "colab": {}
      },
      "source": [
        "#  4. Get the average fare per ride for each city type. \n"
      ],
      "execution_count": null,
      "outputs": []
    },
    {
      "cell_type": "code",
      "metadata": {
        "id": "ICzfd6u3IBpT",
        "colab_type": "code",
        "colab": {}
      },
      "source": [
        "# 5. Get the average fare per driver for each city type. \n"
      ],
      "execution_count": null,
      "outputs": []
    },
    {
      "cell_type": "code",
      "metadata": {
        "id": "ZFFJMNQsIBpV",
        "colab_type": "code",
        "colab": {}
      },
      "source": [
        "#  6. Create a PyBer summary DataFrame. \n"
      ],
      "execution_count": null,
      "outputs": []
    },
    {
      "cell_type": "code",
      "metadata": {
        "id": "mBtwRCeTIBpX",
        "colab_type": "code",
        "colab": {}
      },
      "source": [
        "#  7. Cleaning up the DataFrame. Delete the index name\n",
        "pyber_summary_df.index.name = None"
      ],
      "execution_count": null,
      "outputs": []
    },
    {
      "cell_type": "code",
      "metadata": {
        "id": "u38UDmxGIBpa",
        "colab_type": "code",
        "colab": {}
      },
      "source": [
        "#  8. Format the columns.\n"
      ],
      "execution_count": null,
      "outputs": []
    },
    {
      "cell_type": "markdown",
      "metadata": {
        "id": "OIqRN1FvIBpc",
        "colab_type": "text"
      },
      "source": [
        "## Deliverable 2.  Create a multiple line plot that shows the total weekly of the fares for each type of city."
      ]
    },
    {
      "cell_type": "code",
      "metadata": {
        "id": "VYJThp-1IBpd",
        "colab_type": "code",
        "colab": {}
      },
      "source": [
        "# 1. Read the merged DataFrame\n"
      ],
      "execution_count": null,
      "outputs": []
    },
    {
      "cell_type": "code",
      "metadata": {
        "id": "RRt5rvLEIBpg",
        "colab_type": "code",
        "colab": {}
      },
      "source": [
        "# 2. Using groupby() to create a new DataFrame showing the sum of the fares \n",
        "#  for each date where the indices are the city type and date.\n"
      ],
      "execution_count": null,
      "outputs": []
    },
    {
      "cell_type": "code",
      "metadata": {
        "id": "tHVe7I-cIBpi",
        "colab_type": "code",
        "colab": {}
      },
      "source": [
        "# 3. Reset the index on the DataFrame you created in #1. This is needed to use the 'pivot()' function.\n",
        "# df = df.reset_index()\n"
      ],
      "execution_count": null,
      "outputs": []
    },
    {
      "cell_type": "code",
      "metadata": {
        "id": "gnPZac88IBpk",
        "colab_type": "code",
        "colab": {}
      },
      "source": [
        "# 4. Create a pivot table with the 'date' as the index, the columns ='type', and values='fare' \n",
        "# to get the total fares for each type of city by the date. \n"
      ],
      "execution_count": null,
      "outputs": []
    },
    {
      "cell_type": "code",
      "metadata": {
        "id": "Ge2PN5nwIBpn",
        "colab_type": "code",
        "colab": {}
      },
      "source": [
        "# 5. Create a new DataFrame from the pivot table DataFrame using loc on the given dates, '2019-01-01':'2019-04-29'.\n",
        "\n"
      ],
      "execution_count": null,
      "outputs": []
    },
    {
      "cell_type": "code",
      "metadata": {
        "id": "YYjoI5USIBpp",
        "colab_type": "code",
        "colab": {}
      },
      "source": [
        "# 6. Set the \"date\" index to datetime datatype. This is necessary to use the resample() method in Step 8.\n",
        "# df.index = pd.to_datetime(df.index)"
      ],
      "execution_count": null,
      "outputs": []
    },
    {
      "cell_type": "code",
      "metadata": {
        "id": "Ik4456PoIBpr",
        "colab_type": "code",
        "colab": {}
      },
      "source": [
        "# 7. Check that the datatype for the index is datetime using df.info()\n"
      ],
      "execution_count": null,
      "outputs": []
    },
    {
      "cell_type": "code",
      "metadata": {
        "id": "u2KYzRD6IBpw",
        "colab_type": "code",
        "colab": {}
      },
      "source": [
        "# 8. Create a new DataFrame using the \"resample()\" function by week 'W' and get the sum of the fares for each week.\n"
      ],
      "execution_count": null,
      "outputs": []
    },
    {
      "cell_type": "code",
      "metadata": {
        "id": "CEmQUj6XIBpy",
        "colab_type": "code",
        "colab": {}
      },
      "source": [
        "# 8. Using the object-oriented interface method, plot the resample DataFrame using the df.plot() function. \n",
        "\n",
        "# Import the style from Matplotlib.\n",
        "from matplotlib import style\n",
        "# Use the graph style fivethirtyeight.\n",
        "style.use('fivethirtyeight')\n",
        "\n"
      ],
      "execution_count": null,
      "outputs": []
    },
    {
      "cell_type": "code",
      "metadata": {
        "id": "q7D8ofh9IBp0",
        "colab_type": "code",
        "colab": {}
      },
      "source": [
        ""
      ],
      "execution_count": null,
      "outputs": []
    }
  ]
}