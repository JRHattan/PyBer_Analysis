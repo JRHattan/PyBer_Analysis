{
  "nbformat": 4,
  "nbformat_minor": 0,
  "metadata": {
    "anaconda-cloud": {},
    "kernelspec": {
      "display_name": "PythonData",
      "language": "python",
      "name": "pythondata"
    },
    "language_info": {
      "codemirror_mode": {
        "name": "ipython",
        "version": 3
      },
      "file_extension": ".py",
      "mimetype": "text/x-python",
      "name": "python",
      "nbconvert_exporter": "python",
      "pygments_lexer": "ipython3",
      "version": "3.6.10"
    },
    "colab": {
      "name": "PyBer_Challenge.ipynb",
      "provenance": [],
      "collapsed_sections": []
    }
  },
  "cells": [
    {
      "cell_type": "markdown",
      "metadata": {
        "id": "c0uao86fIBo8",
        "colab_type": "text"
      },
      "source": [
        "# Pyber Challenge"
      ]
    },
    {
      "cell_type": "markdown",
      "metadata": {
        "id": "kIbFnV2SIBo-",
        "colab_type": "text"
      },
      "source": [
        "### 4.3 Loading and Reading CSV files"
      ]
    },
    {
      "cell_type": "code",
      "metadata": {
        "id": "SghEZsxRIBo_",
        "colab_type": "code",
        "colab": {}
      },
      "source": [
        "# Add Matplotlib inline magic command\n",
        "%matplotlib inline\n",
        "# Dependencies and Setup\n",
        "import matplotlib.pyplot as plt\n",
        "import pandas as pd\n",
        "import numpy as np\n",
        "\n",
        "\n",
        "# File to Load (Remember to change these)\n",
        "city_data_to_load = \"city_data.csv\"\n",
        "ride_data_to_load = \"ride_data.csv\"\n",
        "\n",
        "# Read the City and Ride Data\n",
        "city_data_df = pd.read_csv(city_data_to_load)\n",
        "ride_data_df = pd.read_csv(ride_data_to_load)"
      ],
      "execution_count": 109,
      "outputs": []
    },
    {
      "cell_type": "markdown",
      "metadata": {
        "id": "FnzR4JsiIBpE",
        "colab_type": "text"
      },
      "source": [
        "### Merge the DataFrames"
      ]
    },
    {
      "cell_type": "code",
      "metadata": {
        "scrolled": true,
        "id": "S5ebZcudIBpF",
        "colab_type": "code",
        "colab": {
          "base_uri": "https://localhost:8080/",
          "height": 204
        },
        "outputId": "c4621fcc-e2f5-45b8-c3ee-e8f70ad96dcf"
      },
      "source": [
        "# Combine the data into a single dataset\n",
        "pyber_data_df = pd.merge(ride_data_df, city_data_df, how=\"left\", on=[\"city\", \"city\"])\n",
        "\n",
        "# Display the data table for preview\n",
        "pyber_data_df.head()"
      ],
      "execution_count": 110,
      "outputs": [
        {
          "output_type": "execute_result",
          "data": {
            "text/html": [
              "<div>\n",
              "<style scoped>\n",
              "    .dataframe tbody tr th:only-of-type {\n",
              "        vertical-align: middle;\n",
              "    }\n",
              "\n",
              "    .dataframe tbody tr th {\n",
              "        vertical-align: top;\n",
              "    }\n",
              "\n",
              "    .dataframe thead th {\n",
              "        text-align: right;\n",
              "    }\n",
              "</style>\n",
              "<table border=\"1\" class=\"dataframe\">\n",
              "  <thead>\n",
              "    <tr style=\"text-align: right;\">\n",
              "      <th></th>\n",
              "      <th>city</th>\n",
              "      <th>date</th>\n",
              "      <th>fare</th>\n",
              "      <th>ride_id</th>\n",
              "      <th>driver_count</th>\n",
              "      <th>type</th>\n",
              "    </tr>\n",
              "  </thead>\n",
              "  <tbody>\n",
              "    <tr>\n",
              "      <th>0</th>\n",
              "      <td>Lake Jonathanshire</td>\n",
              "      <td>2019-01-14 10:14:22</td>\n",
              "      <td>13.83</td>\n",
              "      <td>5739410935873</td>\n",
              "      <td>5</td>\n",
              "      <td>Urban</td>\n",
              "    </tr>\n",
              "    <tr>\n",
              "      <th>1</th>\n",
              "      <td>South Michelleport</td>\n",
              "      <td>2019-03-04 18:24:09</td>\n",
              "      <td>30.24</td>\n",
              "      <td>2343912425577</td>\n",
              "      <td>72</td>\n",
              "      <td>Urban</td>\n",
              "    </tr>\n",
              "    <tr>\n",
              "      <th>2</th>\n",
              "      <td>Port Samanthamouth</td>\n",
              "      <td>2019-02-24 04:29:00</td>\n",
              "      <td>33.44</td>\n",
              "      <td>2005065760003</td>\n",
              "      <td>57</td>\n",
              "      <td>Urban</td>\n",
              "    </tr>\n",
              "    <tr>\n",
              "      <th>3</th>\n",
              "      <td>Rodneyfort</td>\n",
              "      <td>2019-02-10 23:22:03</td>\n",
              "      <td>23.44</td>\n",
              "      <td>5149245426178</td>\n",
              "      <td>34</td>\n",
              "      <td>Urban</td>\n",
              "    </tr>\n",
              "    <tr>\n",
              "      <th>4</th>\n",
              "      <td>South Jack</td>\n",
              "      <td>2019-03-06 04:28:35</td>\n",
              "      <td>34.58</td>\n",
              "      <td>3908451377344</td>\n",
              "      <td>46</td>\n",
              "      <td>Urban</td>\n",
              "    </tr>\n",
              "  </tbody>\n",
              "</table>\n",
              "</div>"
            ],
            "text/plain": [
              "                 city                 date  ...  driver_count   type\n",
              "0  Lake Jonathanshire  2019-01-14 10:14:22  ...             5  Urban\n",
              "1  South Michelleport  2019-03-04 18:24:09  ...            72  Urban\n",
              "2  Port Samanthamouth  2019-02-24 04:29:00  ...            57  Urban\n",
              "3          Rodneyfort  2019-02-10 23:22:03  ...            34  Urban\n",
              "4          South Jack  2019-03-06 04:28:35  ...            46  Urban\n",
              "\n",
              "[5 rows x 6 columns]"
            ]
          },
          "metadata": {
            "tags": []
          },
          "execution_count": 110
        }
      ]
    },
    {
      "cell_type": "markdown",
      "metadata": {
        "id": "4i-C8KLEIBpI",
        "colab_type": "text"
      },
      "source": [
        "## Deliverable 1: Get a Summary DataFrame "
      ]
    },
    {
      "cell_type": "code",
      "metadata": {
        "id": "vR3HnpRgIBpI",
        "colab_type": "code",
        "colab": {
          "base_uri": "https://localhost:8080/",
          "height": 102
        },
        "outputId": "5cbcc69d-1e63-4046-ba59-784742dadc07"
      },
      "source": [
        "#  1. Get the total rides for each city type\n",
        "pyber_data_df[\"driver_count\"].unique()\n",
        "total_rides = pyber_data_df.groupby([\"type\"]).count()[\"ride_id\"]\n",
        "\n",
        "total_rides"
      ],
      "execution_count": 111,
      "outputs": [
        {
          "output_type": "execute_result",
          "data": {
            "text/plain": [
              "type\n",
              "Rural        125\n",
              "Suburban     625\n",
              "Urban       1625\n",
              "Name: ride_id, dtype: int64"
            ]
          },
          "metadata": {
            "tags": []
          },
          "execution_count": 111
        }
      ]
    },
    {
      "cell_type": "code",
      "metadata": {
        "id": "pNzOnU0CIBpL",
        "colab_type": "code",
        "colab": {
          "base_uri": "https://localhost:8080/",
          "height": 102
        },
        "outputId": "5c7c5ba7-8c14-461c-d025-9f0b00da0fdb"
      },
      "source": [
        "# 2. Get the total drivers for each city type\n",
        "#groupby([\"city\"]).count()[\"ride_id\"]\n",
        "\n",
        "total_drivers = city_data_df.groupby([\"type\"]).sum()[\"driver_count\"]\n",
        "\n",
        "total_drivers"
      ],
      "execution_count": 112,
      "outputs": [
        {
          "output_type": "execute_result",
          "data": {
            "text/plain": [
              "type\n",
              "Rural         78\n",
              "Suburban     490\n",
              "Urban       2405\n",
              "Name: driver_count, dtype: int64"
            ]
          },
          "metadata": {
            "tags": []
          },
          "execution_count": 112
        }
      ]
    },
    {
      "cell_type": "code",
      "metadata": {
        "id": "CfsNhP8ZIBpN",
        "colab_type": "code",
        "colab": {
          "base_uri": "https://localhost:8080/",
          "height": 102
        },
        "outputId": "30ec83c8-15eb-4044-fb1d-a7d79507c4f9"
      },
      "source": [
        "#  3. Get the total amount of fares for each city type\n",
        "\n",
        "total_fare = pyber_data_df.groupby([\"type\"]).sum()[\"fare\"]\n",
        "total_fare"
      ],
      "execution_count": 113,
      "outputs": [
        {
          "output_type": "execute_result",
          "data": {
            "text/plain": [
              "type\n",
              "Rural        4327.93\n",
              "Suburban    19356.33\n",
              "Urban       39854.38\n",
              "Name: fare, dtype: float64"
            ]
          },
          "metadata": {
            "tags": []
          },
          "execution_count": 113
        }
      ]
    },
    {
      "cell_type": "code",
      "metadata": {
        "id": "xTdYiTrhIBpQ",
        "colab_type": "code",
        "colab": {}
      },
      "source": [
        "#  4. Get the average fare per ride for each city type. \n",
        "\n",
        "total_avg_fare = total_fare / total_rides\n",
        "\n",
        "total_avg_fare \n",
        "\n"
      ],
      "execution_count": 116,
      "outputs": []
    },
    {
      "cell_type": "code",
      "metadata": {
        "id": "ICzfd6u3IBpT",
        "colab_type": "code",
        "colab": {
          "base_uri": "https://localhost:8080/",
          "height": 102
        },
        "outputId": "fbaf9794-ba08-416a-fae5-16fb37955f83"
      },
      "source": [
        "# 5. Get the average fare per driver for each city type. \n",
        "total_fare_per_driver = total_fare / total_drivers\n",
        "\n",
        "total_fare_per_driver\n"
      ],
      "execution_count": 102,
      "outputs": [
        {
          "output_type": "execute_result",
          "data": {
            "text/plain": [
              "type\n",
              "Rural       55.486282\n",
              "Suburban    39.502714\n",
              "Urban       16.571468\n",
              "dtype: float64"
            ]
          },
          "metadata": {
            "tags": []
          },
          "execution_count": 102
        }
      ]
    },
    {
      "cell_type": "code",
      "metadata": {
        "id": "ZFFJMNQsIBpV",
        "colab_type": "code",
        "colab": {
          "base_uri": "https://localhost:8080/",
          "height": 173
        },
        "outputId": "fbc4ca88-c3fa-4788-82e3-85e0a3a17826"
      },
      "source": [
        "#  6. Create a PyBer summary DataFrame. \n",
        "pyber_summary_df = pd.DataFrame({\n",
        "          \"Total Rides\": total_rides,\n",
        "          \"Total Drivers\": total_drivers,\n",
        "          \"Total Fare\": total_fare,\n",
        "          \"Total Average Fare\": total_avg_fare,\n",
        "          \"Total Fare per Driver\": total_fare_per_driver\n",
        "          })\n",
        "\n",
        "pyber_summary_df"
      ],
      "execution_count": 126,
      "outputs": [
        {
          "output_type": "execute_result",
          "data": {
            "text/html": [
              "<div>\n",
              "<style scoped>\n",
              "    .dataframe tbody tr th:only-of-type {\n",
              "        vertical-align: middle;\n",
              "    }\n",
              "\n",
              "    .dataframe tbody tr th {\n",
              "        vertical-align: top;\n",
              "    }\n",
              "\n",
              "    .dataframe thead th {\n",
              "        text-align: right;\n",
              "    }\n",
              "</style>\n",
              "<table border=\"1\" class=\"dataframe\">\n",
              "  <thead>\n",
              "    <tr style=\"text-align: right;\">\n",
              "      <th></th>\n",
              "      <th>Total Rides</th>\n",
              "      <th>Total Drivers</th>\n",
              "      <th>Total Fare</th>\n",
              "      <th>Total Average Fare</th>\n",
              "      <th>Total Fare per Driver</th>\n",
              "    </tr>\n",
              "    <tr>\n",
              "      <th>type</th>\n",
              "      <th></th>\n",
              "      <th></th>\n",
              "      <th></th>\n",
              "      <th></th>\n",
              "      <th></th>\n",
              "    </tr>\n",
              "  </thead>\n",
              "  <tbody>\n",
              "    <tr>\n",
              "      <th>Rural</th>\n",
              "      <td>125</td>\n",
              "      <td>78</td>\n",
              "      <td>4327.93</td>\n",
              "      <td>34.623440</td>\n",
              "      <td>55.486282</td>\n",
              "    </tr>\n",
              "    <tr>\n",
              "      <th>Suburban</th>\n",
              "      <td>625</td>\n",
              "      <td>490</td>\n",
              "      <td>19356.33</td>\n",
              "      <td>30.970128</td>\n",
              "      <td>39.502714</td>\n",
              "    </tr>\n",
              "    <tr>\n",
              "      <th>Urban</th>\n",
              "      <td>1625</td>\n",
              "      <td>2405</td>\n",
              "      <td>39854.38</td>\n",
              "      <td>24.525772</td>\n",
              "      <td>16.571468</td>\n",
              "    </tr>\n",
              "  </tbody>\n",
              "</table>\n",
              "</div>"
            ],
            "text/plain": [
              "          Total Rides  Total Drivers  ...  Total Average Fare  Total Fare per Driver\n",
              "type                                  ...                                           \n",
              "Rural             125             78  ...           34.623440              55.486282\n",
              "Suburban          625            490  ...           30.970128              39.502714\n",
              "Urban            1625           2405  ...           24.525772              16.571468\n",
              "\n",
              "[3 rows x 5 columns]"
            ]
          },
          "metadata": {
            "tags": []
          },
          "execution_count": 126
        }
      ]
    },
    {
      "cell_type": "code",
      "metadata": {
        "id": "mBtwRCeTIBpX",
        "colab_type": "code",
        "colab": {}
      },
      "source": [
        "#  7. Cleaning up the DataFrame. Delete the index name\n",
        "pyber_summary_df.index.name = None"
      ],
      "execution_count": 128,
      "outputs": []
    },
    {
      "cell_type": "code",
      "metadata": {
        "id": "u38UDmxGIBpa",
        "colab_type": "code",
        "colab": {
          "base_uri": "https://localhost:8080/",
          "height": 408
        },
        "outputId": "2c91291f-ed78-4ed8-8e71-bfa6731b594f"
      },
      "source": [
        "#  8. Format the columns.\n",
        "pyber_summary_df[\"Total Fare\"] = pyber_summary_df[\"Total Fare\"].map(\"${:,.2f}\".format)\n",
        "pyber_summary_df[\"Total Average Fare\"] = pyber_summary_df[\"Total Average Fare\"].map(\"${:,.2f}\".format)\n",
        "pyber_summary_df[\"Total Fare per Driver\"] = pyber_summary_df[\"Total Fare per Driver\"].map(\"${:,.2f}\".format)\n",
        "\n"
      ],
      "execution_count": 129,
      "outputs": [
        {
          "output_type": "error",
          "ename": "ValueError",
          "evalue": "ignored",
          "traceback": [
            "\u001b[0;31m---------------------------------------------------------------------------\u001b[0m",
            "\u001b[0;31mValueError\u001b[0m                                Traceback (most recent call last)",
            "\u001b[0;32m<ipython-input-129-6c5d4fd60bcb>\u001b[0m in \u001b[0;36m<module>\u001b[0;34m()\u001b[0m\n\u001b[1;32m      1\u001b[0m \u001b[0;31m#  8. Format the columns.\u001b[0m\u001b[0;34m\u001b[0m\u001b[0;34m\u001b[0m\u001b[0;34m\u001b[0m\u001b[0m\n\u001b[0;32m----> 2\u001b[0;31m \u001b[0mpyber_summary_df\u001b[0m\u001b[0;34m[\u001b[0m\u001b[0;34m\"Total Fare\"\u001b[0m\u001b[0;34m]\u001b[0m \u001b[0;34m=\u001b[0m \u001b[0mpyber_summary_df\u001b[0m\u001b[0;34m[\u001b[0m\u001b[0;34m\"Total Fare\"\u001b[0m\u001b[0;34m]\u001b[0m\u001b[0;34m.\u001b[0m\u001b[0mmap\u001b[0m\u001b[0;34m(\u001b[0m\u001b[0;34m\"${:,.2f}\"\u001b[0m\u001b[0;34m.\u001b[0m\u001b[0mformat\u001b[0m\u001b[0;34m)\u001b[0m\u001b[0;34m\u001b[0m\u001b[0;34m\u001b[0m\u001b[0m\n\u001b[0m\u001b[1;32m      3\u001b[0m \u001b[0mpyber_summary_df\u001b[0m\u001b[0;34m[\u001b[0m\u001b[0;34m\"Total Average Fare\"\u001b[0m\u001b[0;34m]\u001b[0m \u001b[0;34m=\u001b[0m \u001b[0mpyber_summary_df\u001b[0m\u001b[0;34m[\u001b[0m\u001b[0;34m\"Total Average Fare\"\u001b[0m\u001b[0;34m]\u001b[0m\u001b[0;34m.\u001b[0m\u001b[0mmap\u001b[0m\u001b[0;34m(\u001b[0m\u001b[0;34m\"${:,.2f}\"\u001b[0m\u001b[0;34m.\u001b[0m\u001b[0mformat\u001b[0m\u001b[0;34m)\u001b[0m\u001b[0;34m\u001b[0m\u001b[0;34m\u001b[0m\u001b[0m\n\u001b[1;32m      4\u001b[0m \u001b[0mpyber_summary_df\u001b[0m\u001b[0;34m[\u001b[0m\u001b[0;34m\"Total Fare per Driver\"\u001b[0m\u001b[0;34m]\u001b[0m \u001b[0;34m=\u001b[0m \u001b[0mpyber_summary_df\u001b[0m\u001b[0;34m[\u001b[0m\u001b[0;34m\"Total Fare per Driver\"\u001b[0m\u001b[0;34m]\u001b[0m\u001b[0;34m.\u001b[0m\u001b[0mmap\u001b[0m\u001b[0;34m(\u001b[0m\u001b[0;34m\"${:,.2f}\"\u001b[0m\u001b[0;34m.\u001b[0m\u001b[0mformat\u001b[0m\u001b[0;34m)\u001b[0m\u001b[0;34m\u001b[0m\u001b[0;34m\u001b[0m\u001b[0m\n\u001b[1;32m      5\u001b[0m \u001b[0;34m\u001b[0m\u001b[0m\n",
            "\u001b[0;32m/usr/local/lib/python3.6/dist-packages/pandas/core/series.py\u001b[0m in \u001b[0;36mmap\u001b[0;34m(self, arg, na_action)\u001b[0m\n\u001b[1;32m   3628\u001b[0m         \u001b[0mdtype\u001b[0m\u001b[0;34m:\u001b[0m \u001b[0mobject\u001b[0m\u001b[0;34m\u001b[0m\u001b[0;34m\u001b[0m\u001b[0m\n\u001b[1;32m   3629\u001b[0m         \"\"\"\n\u001b[0;32m-> 3630\u001b[0;31m         \u001b[0mnew_values\u001b[0m \u001b[0;34m=\u001b[0m \u001b[0msuper\u001b[0m\u001b[0;34m(\u001b[0m\u001b[0;34m)\u001b[0m\u001b[0;34m.\u001b[0m\u001b[0m_map_values\u001b[0m\u001b[0;34m(\u001b[0m\u001b[0marg\u001b[0m\u001b[0;34m,\u001b[0m \u001b[0mna_action\u001b[0m\u001b[0;34m=\u001b[0m\u001b[0mna_action\u001b[0m\u001b[0;34m)\u001b[0m\u001b[0;34m\u001b[0m\u001b[0;34m\u001b[0m\u001b[0m\n\u001b[0m\u001b[1;32m   3631\u001b[0m         \u001b[0;32mreturn\u001b[0m \u001b[0mself\u001b[0m\u001b[0;34m.\u001b[0m\u001b[0m_constructor\u001b[0m\u001b[0;34m(\u001b[0m\u001b[0mnew_values\u001b[0m\u001b[0;34m,\u001b[0m \u001b[0mindex\u001b[0m\u001b[0;34m=\u001b[0m\u001b[0mself\u001b[0m\u001b[0;34m.\u001b[0m\u001b[0mindex\u001b[0m\u001b[0;34m)\u001b[0m\u001b[0;34m.\u001b[0m\u001b[0m__finalize__\u001b[0m\u001b[0;34m(\u001b[0m\u001b[0mself\u001b[0m\u001b[0;34m)\u001b[0m\u001b[0;34m\u001b[0m\u001b[0;34m\u001b[0m\u001b[0m\n\u001b[1;32m   3632\u001b[0m \u001b[0;34m\u001b[0m\u001b[0m\n",
            "\u001b[0;32m/usr/local/lib/python3.6/dist-packages/pandas/core/base.py\u001b[0m in \u001b[0;36m_map_values\u001b[0;34m(self, mapper, na_action)\u001b[0m\n\u001b[1;32m   1143\u001b[0m \u001b[0;34m\u001b[0m\u001b[0m\n\u001b[1;32m   1144\u001b[0m         \u001b[0;31m# mapper is a function\u001b[0m\u001b[0;34m\u001b[0m\u001b[0;34m\u001b[0m\u001b[0;34m\u001b[0m\u001b[0m\n\u001b[0;32m-> 1145\u001b[0;31m         \u001b[0mnew_values\u001b[0m \u001b[0;34m=\u001b[0m \u001b[0mmap_f\u001b[0m\u001b[0;34m(\u001b[0m\u001b[0mvalues\u001b[0m\u001b[0;34m,\u001b[0m \u001b[0mmapper\u001b[0m\u001b[0;34m)\u001b[0m\u001b[0;34m\u001b[0m\u001b[0;34m\u001b[0m\u001b[0m\n\u001b[0m\u001b[1;32m   1146\u001b[0m \u001b[0;34m\u001b[0m\u001b[0m\n\u001b[1;32m   1147\u001b[0m         \u001b[0;32mreturn\u001b[0m \u001b[0mnew_values\u001b[0m\u001b[0;34m\u001b[0m\u001b[0;34m\u001b[0m\u001b[0m\n",
            "\u001b[0;32mpandas/_libs/lib.pyx\u001b[0m in \u001b[0;36mpandas._libs.lib.map_infer\u001b[0;34m()\u001b[0m\n",
            "\u001b[0;31mValueError\u001b[0m: Unknown format code 'f' for object of type 'str'"
          ]
        }
      ]
    },
    {
      "cell_type": "code",
      "metadata": {
        "id": "vO85vXXEY97n",
        "colab_type": "code",
        "colab": {
          "base_uri": "https://localhost:8080/",
          "height": 142
        },
        "outputId": "ad0de27d-6a69-4d3c-80e4-b7bab841da60"
      },
      "source": [
        "pyber_summary_df"
      ],
      "execution_count": 130,
      "outputs": [
        {
          "output_type": "execute_result",
          "data": {
            "text/html": [
              "<div>\n",
              "<style scoped>\n",
              "    .dataframe tbody tr th:only-of-type {\n",
              "        vertical-align: middle;\n",
              "    }\n",
              "\n",
              "    .dataframe tbody tr th {\n",
              "        vertical-align: top;\n",
              "    }\n",
              "\n",
              "    .dataframe thead th {\n",
              "        text-align: right;\n",
              "    }\n",
              "</style>\n",
              "<table border=\"1\" class=\"dataframe\">\n",
              "  <thead>\n",
              "    <tr style=\"text-align: right;\">\n",
              "      <th></th>\n",
              "      <th>Total Rides</th>\n",
              "      <th>Total Drivers</th>\n",
              "      <th>Total Fare</th>\n",
              "      <th>Total Average Fare</th>\n",
              "      <th>Total Fare per Driver</th>\n",
              "    </tr>\n",
              "  </thead>\n",
              "  <tbody>\n",
              "    <tr>\n",
              "      <th>Rural</th>\n",
              "      <td>125</td>\n",
              "      <td>78</td>\n",
              "      <td>$4,327.93</td>\n",
              "      <td>$34.62</td>\n",
              "      <td>$55.49</td>\n",
              "    </tr>\n",
              "    <tr>\n",
              "      <th>Suburban</th>\n",
              "      <td>625</td>\n",
              "      <td>490</td>\n",
              "      <td>$19,356.33</td>\n",
              "      <td>$30.97</td>\n",
              "      <td>$39.50</td>\n",
              "    </tr>\n",
              "    <tr>\n",
              "      <th>Urban</th>\n",
              "      <td>1625</td>\n",
              "      <td>2405</td>\n",
              "      <td>$39,854.38</td>\n",
              "      <td>$24.53</td>\n",
              "      <td>$16.57</td>\n",
              "    </tr>\n",
              "  </tbody>\n",
              "</table>\n",
              "</div>"
            ],
            "text/plain": [
              "          Total Rides  Total Drivers  ... Total Average Fare Total Fare per Driver\n",
              "Rural             125             78  ...             $34.62                $55.49\n",
              "Suburban          625            490  ...             $30.97                $39.50\n",
              "Urban            1625           2405  ...             $24.53                $16.57\n",
              "\n",
              "[3 rows x 5 columns]"
            ]
          },
          "metadata": {
            "tags": []
          },
          "execution_count": 130
        }
      ]
    },
    {
      "cell_type": "markdown",
      "metadata": {
        "id": "OIqRN1FvIBpc",
        "colab_type": "text"
      },
      "source": [
        "## Deliverable 2.  Create a multiple line plot that shows the total weekly of the fares for each type of city."
      ]
    },
    {
      "cell_type": "code",
      "metadata": {
        "id": "VYJThp-1IBpd",
        "colab_type": "code",
        "colab": {
          "base_uri": "https://localhost:8080/",
          "height": 204
        },
        "outputId": "1c23e5a5-579f-4576-abbd-5461cf8a1b0b"
      },
      "source": [
        "# 1. Read the merged DataFrame\n",
        "new_pyber_data_df = pyber_data_df\n",
        "new_pyber_data_df.head()"
      ],
      "execution_count": 142,
      "outputs": [
        {
          "output_type": "execute_result",
          "data": {
            "text/html": [
              "<div>\n",
              "<style scoped>\n",
              "    .dataframe tbody tr th:only-of-type {\n",
              "        vertical-align: middle;\n",
              "    }\n",
              "\n",
              "    .dataframe tbody tr th {\n",
              "        vertical-align: top;\n",
              "    }\n",
              "\n",
              "    .dataframe thead th {\n",
              "        text-align: right;\n",
              "    }\n",
              "</style>\n",
              "<table border=\"1\" class=\"dataframe\">\n",
              "  <thead>\n",
              "    <tr style=\"text-align: right;\">\n",
              "      <th></th>\n",
              "      <th>city</th>\n",
              "      <th>date</th>\n",
              "      <th>fare</th>\n",
              "      <th>ride_id</th>\n",
              "      <th>driver_count</th>\n",
              "      <th>type</th>\n",
              "    </tr>\n",
              "  </thead>\n",
              "  <tbody>\n",
              "    <tr>\n",
              "      <th>0</th>\n",
              "      <td>Lake Jonathanshire</td>\n",
              "      <td>2019-01-14 10:14:22</td>\n",
              "      <td>13.83</td>\n",
              "      <td>5739410935873</td>\n",
              "      <td>5</td>\n",
              "      <td>Urban</td>\n",
              "    </tr>\n",
              "    <tr>\n",
              "      <th>1</th>\n",
              "      <td>South Michelleport</td>\n",
              "      <td>2019-03-04 18:24:09</td>\n",
              "      <td>30.24</td>\n",
              "      <td>2343912425577</td>\n",
              "      <td>72</td>\n",
              "      <td>Urban</td>\n",
              "    </tr>\n",
              "    <tr>\n",
              "      <th>2</th>\n",
              "      <td>Port Samanthamouth</td>\n",
              "      <td>2019-02-24 04:29:00</td>\n",
              "      <td>33.44</td>\n",
              "      <td>2005065760003</td>\n",
              "      <td>57</td>\n",
              "      <td>Urban</td>\n",
              "    </tr>\n",
              "    <tr>\n",
              "      <th>3</th>\n",
              "      <td>Rodneyfort</td>\n",
              "      <td>2019-02-10 23:22:03</td>\n",
              "      <td>23.44</td>\n",
              "      <td>5149245426178</td>\n",
              "      <td>34</td>\n",
              "      <td>Urban</td>\n",
              "    </tr>\n",
              "    <tr>\n",
              "      <th>4</th>\n",
              "      <td>South Jack</td>\n",
              "      <td>2019-03-06 04:28:35</td>\n",
              "      <td>34.58</td>\n",
              "      <td>3908451377344</td>\n",
              "      <td>46</td>\n",
              "      <td>Urban</td>\n",
              "    </tr>\n",
              "  </tbody>\n",
              "</table>\n",
              "</div>"
            ],
            "text/plain": [
              "                 city                 date  ...  driver_count   type\n",
              "0  Lake Jonathanshire  2019-01-14 10:14:22  ...             5  Urban\n",
              "1  South Michelleport  2019-03-04 18:24:09  ...            72  Urban\n",
              "2  Port Samanthamouth  2019-02-24 04:29:00  ...            57  Urban\n",
              "3          Rodneyfort  2019-02-10 23:22:03  ...            34  Urban\n",
              "4          South Jack  2019-03-06 04:28:35  ...            46  Urban\n",
              "\n",
              "[5 rows x 6 columns]"
            ]
          },
          "metadata": {
            "tags": []
          },
          "execution_count": 142
        }
      ]
    },
    {
      "cell_type": "code",
      "metadata": {
        "id": "RRt5rvLEIBpg",
        "colab_type": "code",
        "colab": {
          "base_uri": "https://localhost:8080/",
          "height": 136
        },
        "outputId": "7553a4a1-becc-49ad-ad90-17ba8bdb1222"
      },
      "source": [
        "# 2. Using groupby() to create a new DataFrame showing the sum of the fares \n",
        "#  for each date where the indices are the city type and date.\n",
        "time_place_df = new_pyber_data_df.groupby(['type', 'date']).sum()[\"fare\"]\n",
        "time_place_df.head()"
      ],
      "execution_count": 141,
      "outputs": [
        {
          "output_type": "execute_result",
          "data": {
            "text/plain": [
              "type   date               \n",
              "Rural  2019-01-01 09:45:36    43.69\n",
              "       2019-01-02 11:18:32    52.12\n",
              "       2019-01-03 19:51:01    19.90\n",
              "       2019-01-04 03:31:26    24.88\n",
              "       2019-01-06 07:38:40    47.33\n",
              "Name: fare, dtype: float64"
            ]
          },
          "metadata": {
            "tags": []
          },
          "execution_count": 141
        }
      ]
    },
    {
      "cell_type": "code",
      "metadata": {
        "id": "tHVe7I-cIBpi",
        "colab_type": "code",
        "colab": {}
      },
      "source": [
        "# 3. Reset the index on the DataFrame you created in #1. This is needed to use the 'pivot()' function.\n",
        "time_place_df = time_place_df.reset_index()\n"
      ],
      "execution_count": 147,
      "outputs": []
    },
    {
      "cell_type": "code",
      "metadata": {
        "id": "gnPZac88IBpk",
        "colab_type": "code",
        "colab": {
          "base_uri": "https://localhost:8080/",
          "height": 450
        },
        "outputId": "fe509146-ae6c-4c74-895a-41854d720efe"
      },
      "source": [
        "# 4. Create a pivot table with the 'date' as the index, the columns ='type', and values='fare' \n",
        "# to get the total fares for each type of city by the date. \n",
        "time_place_pivot_df = time_place_df.pivot(index = 'date', columns ='type', values='fare' )\n",
        "time_place_pivot_df"
      ],
      "execution_count": 149,
      "outputs": [
        {
          "output_type": "execute_result",
          "data": {
            "text/html": [
              "<div>\n",
              "<style scoped>\n",
              "    .dataframe tbody tr th:only-of-type {\n",
              "        vertical-align: middle;\n",
              "    }\n",
              "\n",
              "    .dataframe tbody tr th {\n",
              "        vertical-align: top;\n",
              "    }\n",
              "\n",
              "    .dataframe thead th {\n",
              "        text-align: right;\n",
              "    }\n",
              "</style>\n",
              "<table border=\"1\" class=\"dataframe\">\n",
              "  <thead>\n",
              "    <tr style=\"text-align: right;\">\n",
              "      <th>type</th>\n",
              "      <th>Rural</th>\n",
              "      <th>Suburban</th>\n",
              "      <th>Urban</th>\n",
              "    </tr>\n",
              "    <tr>\n",
              "      <th>date</th>\n",
              "      <th></th>\n",
              "      <th></th>\n",
              "      <th></th>\n",
              "    </tr>\n",
              "  </thead>\n",
              "  <tbody>\n",
              "    <tr>\n",
              "      <th>2019-01-01 00:08:16</th>\n",
              "      <td>NaN</td>\n",
              "      <td>NaN</td>\n",
              "      <td>37.91</td>\n",
              "    </tr>\n",
              "    <tr>\n",
              "      <th>2019-01-01 00:46:46</th>\n",
              "      <td>NaN</td>\n",
              "      <td>47.74</td>\n",
              "      <td>NaN</td>\n",
              "    </tr>\n",
              "    <tr>\n",
              "      <th>2019-01-01 02:07:24</th>\n",
              "      <td>NaN</td>\n",
              "      <td>24.07</td>\n",
              "      <td>NaN</td>\n",
              "    </tr>\n",
              "    <tr>\n",
              "      <th>2019-01-01 03:46:50</th>\n",
              "      <td>NaN</td>\n",
              "      <td>NaN</td>\n",
              "      <td>7.57</td>\n",
              "    </tr>\n",
              "    <tr>\n",
              "      <th>2019-01-01 05:23:21</th>\n",
              "      <td>NaN</td>\n",
              "      <td>NaN</td>\n",
              "      <td>10.75</td>\n",
              "    </tr>\n",
              "    <tr>\n",
              "      <th>...</th>\n",
              "      <td>...</td>\n",
              "      <td>...</td>\n",
              "      <td>...</td>\n",
              "    </tr>\n",
              "    <tr>\n",
              "      <th>2019-05-08 04:20:00</th>\n",
              "      <td>NaN</td>\n",
              "      <td>NaN</td>\n",
              "      <td>21.99</td>\n",
              "    </tr>\n",
              "    <tr>\n",
              "      <th>2019-05-08 04:39:49</th>\n",
              "      <td>NaN</td>\n",
              "      <td>NaN</td>\n",
              "      <td>18.45</td>\n",
              "    </tr>\n",
              "    <tr>\n",
              "      <th>2019-05-08 07:29:01</th>\n",
              "      <td>NaN</td>\n",
              "      <td>NaN</td>\n",
              "      <td>18.55</td>\n",
              "    </tr>\n",
              "    <tr>\n",
              "      <th>2019-05-08 11:38:35</th>\n",
              "      <td>NaN</td>\n",
              "      <td>NaN</td>\n",
              "      <td>19.77</td>\n",
              "    </tr>\n",
              "    <tr>\n",
              "      <th>2019-05-08 13:10:18</th>\n",
              "      <td>NaN</td>\n",
              "      <td>NaN</td>\n",
              "      <td>18.04</td>\n",
              "    </tr>\n",
              "  </tbody>\n",
              "</table>\n",
              "<p>2375 rows × 3 columns</p>\n",
              "</div>"
            ],
            "text/plain": [
              "type                 Rural  Suburban  Urban\n",
              "date                                       \n",
              "2019-01-01 00:08:16    NaN       NaN  37.91\n",
              "2019-01-01 00:46:46    NaN     47.74    NaN\n",
              "2019-01-01 02:07:24    NaN     24.07    NaN\n",
              "2019-01-01 03:46:50    NaN       NaN   7.57\n",
              "2019-01-01 05:23:21    NaN       NaN  10.75\n",
              "...                    ...       ...    ...\n",
              "2019-05-08 04:20:00    NaN       NaN  21.99\n",
              "2019-05-08 04:39:49    NaN       NaN  18.45\n",
              "2019-05-08 07:29:01    NaN       NaN  18.55\n",
              "2019-05-08 11:38:35    NaN       NaN  19.77\n",
              "2019-05-08 13:10:18    NaN       NaN  18.04\n",
              "\n",
              "[2375 rows x 3 columns]"
            ]
          },
          "metadata": {
            "tags": []
          },
          "execution_count": 149
        }
      ]
    },
    {
      "cell_type": "code",
      "metadata": {
        "id": "Ge2PN5nwIBpn",
        "colab_type": "code",
        "colab": {
          "base_uri": "https://localhost:8080/",
          "height": 450
        },
        "outputId": "7f39355f-cefe-4748-c2bf-f5aa09a4e1c9"
      },
      "source": [
        "# 5. Create a new DataFrame from the pivot table DataFrame using loc on the given dates, '2019-01-01':'2019-04-29'.\n",
        "times_place_pivot_df = time_place_pivot_df.loc['2019-01-01':'2019-04-29']\n",
        "times_place_pivot_df"
      ],
      "execution_count": 176,
      "outputs": [
        {
          "output_type": "execute_result",
          "data": {
            "text/html": [
              "<div>\n",
              "<style scoped>\n",
              "    .dataframe tbody tr th:only-of-type {\n",
              "        vertical-align: middle;\n",
              "    }\n",
              "\n",
              "    .dataframe tbody tr th {\n",
              "        vertical-align: top;\n",
              "    }\n",
              "\n",
              "    .dataframe thead th {\n",
              "        text-align: right;\n",
              "    }\n",
              "</style>\n",
              "<table border=\"1\" class=\"dataframe\">\n",
              "  <thead>\n",
              "    <tr style=\"text-align: right;\">\n",
              "      <th>type</th>\n",
              "      <th>Rural</th>\n",
              "      <th>Suburban</th>\n",
              "      <th>Urban</th>\n",
              "    </tr>\n",
              "    <tr>\n",
              "      <th>date</th>\n",
              "      <th></th>\n",
              "      <th></th>\n",
              "      <th></th>\n",
              "    </tr>\n",
              "  </thead>\n",
              "  <tbody>\n",
              "    <tr>\n",
              "      <th>2019-01-01 00:08:16</th>\n",
              "      <td>NaN</td>\n",
              "      <td>NaN</td>\n",
              "      <td>37.91</td>\n",
              "    </tr>\n",
              "    <tr>\n",
              "      <th>2019-01-01 00:46:46</th>\n",
              "      <td>NaN</td>\n",
              "      <td>47.74</td>\n",
              "      <td>NaN</td>\n",
              "    </tr>\n",
              "    <tr>\n",
              "      <th>2019-01-01 02:07:24</th>\n",
              "      <td>NaN</td>\n",
              "      <td>24.07</td>\n",
              "      <td>NaN</td>\n",
              "    </tr>\n",
              "    <tr>\n",
              "      <th>2019-01-01 03:46:50</th>\n",
              "      <td>NaN</td>\n",
              "      <td>NaN</td>\n",
              "      <td>7.57</td>\n",
              "    </tr>\n",
              "    <tr>\n",
              "      <th>2019-01-01 05:23:21</th>\n",
              "      <td>NaN</td>\n",
              "      <td>NaN</td>\n",
              "      <td>10.75</td>\n",
              "    </tr>\n",
              "    <tr>\n",
              "      <th>...</th>\n",
              "      <td>...</td>\n",
              "      <td>...</td>\n",
              "      <td>...</td>\n",
              "    </tr>\n",
              "    <tr>\n",
              "      <th>2019-04-28 14:28:36</th>\n",
              "      <td>NaN</td>\n",
              "      <td>NaN</td>\n",
              "      <td>11.46</td>\n",
              "    </tr>\n",
              "    <tr>\n",
              "      <th>2019-04-28 16:29:16</th>\n",
              "      <td>NaN</td>\n",
              "      <td>NaN</td>\n",
              "      <td>36.42</td>\n",
              "    </tr>\n",
              "    <tr>\n",
              "      <th>2019-04-28 17:26:52</th>\n",
              "      <td>NaN</td>\n",
              "      <td>NaN</td>\n",
              "      <td>31.43</td>\n",
              "    </tr>\n",
              "    <tr>\n",
              "      <th>2019-04-28 17:38:09</th>\n",
              "      <td>NaN</td>\n",
              "      <td>34.87</td>\n",
              "      <td>NaN</td>\n",
              "    </tr>\n",
              "    <tr>\n",
              "      <th>2019-04-28 19:35:03</th>\n",
              "      <td>NaN</td>\n",
              "      <td>16.96</td>\n",
              "      <td>NaN</td>\n",
              "    </tr>\n",
              "  </tbody>\n",
              "</table>\n",
              "<p>2196 rows × 3 columns</p>\n",
              "</div>"
            ],
            "text/plain": [
              "type                 Rural  Suburban  Urban\n",
              "date                                       \n",
              "2019-01-01 00:08:16    NaN       NaN  37.91\n",
              "2019-01-01 00:46:46    NaN     47.74    NaN\n",
              "2019-01-01 02:07:24    NaN     24.07    NaN\n",
              "2019-01-01 03:46:50    NaN       NaN   7.57\n",
              "2019-01-01 05:23:21    NaN       NaN  10.75\n",
              "...                    ...       ...    ...\n",
              "2019-04-28 14:28:36    NaN       NaN  11.46\n",
              "2019-04-28 16:29:16    NaN       NaN  36.42\n",
              "2019-04-28 17:26:52    NaN       NaN  31.43\n",
              "2019-04-28 17:38:09    NaN     34.87    NaN\n",
              "2019-04-28 19:35:03    NaN     16.96    NaN\n",
              "\n",
              "[2196 rows x 3 columns]"
            ]
          },
          "metadata": {
            "tags": []
          },
          "execution_count": 176
        }
      ]
    },
    {
      "cell_type": "code",
      "metadata": {
        "id": "YYjoI5USIBpp",
        "colab_type": "code",
        "colab": {
          "base_uri": "https://localhost:8080/",
          "height": 450
        },
        "outputId": "8edfbc1f-62af-4f49-89b6-df24bd544da3"
      },
      "source": [
        "# 6. Set the \"date\" index to datetime datatype. This is necessary to use the resample() method in Step 8.\n",
        "times_place_pivot_df.index = pd.to_datetime(times_place_pivot_df.index)\n",
        "times_place_pivot_df"
      ],
      "execution_count": 177,
      "outputs": [
        {
          "output_type": "execute_result",
          "data": {
            "text/html": [
              "<div>\n",
              "<style scoped>\n",
              "    .dataframe tbody tr th:only-of-type {\n",
              "        vertical-align: middle;\n",
              "    }\n",
              "\n",
              "    .dataframe tbody tr th {\n",
              "        vertical-align: top;\n",
              "    }\n",
              "\n",
              "    .dataframe thead th {\n",
              "        text-align: right;\n",
              "    }\n",
              "</style>\n",
              "<table border=\"1\" class=\"dataframe\">\n",
              "  <thead>\n",
              "    <tr style=\"text-align: right;\">\n",
              "      <th>type</th>\n",
              "      <th>Rural</th>\n",
              "      <th>Suburban</th>\n",
              "      <th>Urban</th>\n",
              "    </tr>\n",
              "    <tr>\n",
              "      <th>date</th>\n",
              "      <th></th>\n",
              "      <th></th>\n",
              "      <th></th>\n",
              "    </tr>\n",
              "  </thead>\n",
              "  <tbody>\n",
              "    <tr>\n",
              "      <th>2019-01-01 00:08:16</th>\n",
              "      <td>NaN</td>\n",
              "      <td>NaN</td>\n",
              "      <td>37.91</td>\n",
              "    </tr>\n",
              "    <tr>\n",
              "      <th>2019-01-01 00:46:46</th>\n",
              "      <td>NaN</td>\n",
              "      <td>47.74</td>\n",
              "      <td>NaN</td>\n",
              "    </tr>\n",
              "    <tr>\n",
              "      <th>2019-01-01 02:07:24</th>\n",
              "      <td>NaN</td>\n",
              "      <td>24.07</td>\n",
              "      <td>NaN</td>\n",
              "    </tr>\n",
              "    <tr>\n",
              "      <th>2019-01-01 03:46:50</th>\n",
              "      <td>NaN</td>\n",
              "      <td>NaN</td>\n",
              "      <td>7.57</td>\n",
              "    </tr>\n",
              "    <tr>\n",
              "      <th>2019-01-01 05:23:21</th>\n",
              "      <td>NaN</td>\n",
              "      <td>NaN</td>\n",
              "      <td>10.75</td>\n",
              "    </tr>\n",
              "    <tr>\n",
              "      <th>...</th>\n",
              "      <td>...</td>\n",
              "      <td>...</td>\n",
              "      <td>...</td>\n",
              "    </tr>\n",
              "    <tr>\n",
              "      <th>2019-04-28 14:28:36</th>\n",
              "      <td>NaN</td>\n",
              "      <td>NaN</td>\n",
              "      <td>11.46</td>\n",
              "    </tr>\n",
              "    <tr>\n",
              "      <th>2019-04-28 16:29:16</th>\n",
              "      <td>NaN</td>\n",
              "      <td>NaN</td>\n",
              "      <td>36.42</td>\n",
              "    </tr>\n",
              "    <tr>\n",
              "      <th>2019-04-28 17:26:52</th>\n",
              "      <td>NaN</td>\n",
              "      <td>NaN</td>\n",
              "      <td>31.43</td>\n",
              "    </tr>\n",
              "    <tr>\n",
              "      <th>2019-04-28 17:38:09</th>\n",
              "      <td>NaN</td>\n",
              "      <td>34.87</td>\n",
              "      <td>NaN</td>\n",
              "    </tr>\n",
              "    <tr>\n",
              "      <th>2019-04-28 19:35:03</th>\n",
              "      <td>NaN</td>\n",
              "      <td>16.96</td>\n",
              "      <td>NaN</td>\n",
              "    </tr>\n",
              "  </tbody>\n",
              "</table>\n",
              "<p>2196 rows × 3 columns</p>\n",
              "</div>"
            ],
            "text/plain": [
              "type                 Rural  Suburban  Urban\n",
              "date                                       \n",
              "2019-01-01 00:08:16    NaN       NaN  37.91\n",
              "2019-01-01 00:46:46    NaN     47.74    NaN\n",
              "2019-01-01 02:07:24    NaN     24.07    NaN\n",
              "2019-01-01 03:46:50    NaN       NaN   7.57\n",
              "2019-01-01 05:23:21    NaN       NaN  10.75\n",
              "...                    ...       ...    ...\n",
              "2019-04-28 14:28:36    NaN       NaN  11.46\n",
              "2019-04-28 16:29:16    NaN       NaN  36.42\n",
              "2019-04-28 17:26:52    NaN       NaN  31.43\n",
              "2019-04-28 17:38:09    NaN     34.87    NaN\n",
              "2019-04-28 19:35:03    NaN     16.96    NaN\n",
              "\n",
              "[2196 rows x 3 columns]"
            ]
          },
          "metadata": {
            "tags": []
          },
          "execution_count": 177
        }
      ]
    },
    {
      "cell_type": "code",
      "metadata": {
        "id": "Ik4456PoIBpr",
        "colab_type": "code",
        "colab": {
          "base_uri": "https://localhost:8080/",
          "height": 187
        },
        "outputId": "59d079e3-5f8c-4609-851a-c32b3112606c"
      },
      "source": [
        "# 7. Check that the datatype for the index is datetime using df.info()\n",
        "times_place_pivot_df.info()"
      ],
      "execution_count": 178,
      "outputs": [
        {
          "output_type": "stream",
          "text": [
            "<class 'pandas.core.frame.DataFrame'>\n",
            "DatetimeIndex: 2196 entries, 2019-01-01 00:08:16 to 2019-04-28 19:35:03\n",
            "Data columns (total 3 columns):\n",
            " #   Column    Non-Null Count  Dtype  \n",
            "---  ------    --------------  -----  \n",
            " 0   Rural     114 non-null    float64\n",
            " 1   Suburban  573 non-null    float64\n",
            " 2   Urban     1509 non-null   float64\n",
            "dtypes: float64(3)\n",
            "memory usage: 68.6 KB\n"
          ],
          "name": "stdout"
        }
      ]
    },
    {
      "cell_type": "code",
      "metadata": {
        "id": "u2KYzRD6IBpw",
        "colab_type": "code",
        "colab": {
          "base_uri": "https://localhost:8080/",
          "height": 607
        },
        "outputId": "9c2b8600-9923-444d-e883-205abf130f06"
      },
      "source": [
        "# 8. Create a new DataFrame using the \"resample()\" function by week 'W' and get the sum of the fares for each week.\n",
        "times_places_pivot_df = times_place_pivot_df.resample(\"W\").sum()\n",
        "times_places_pivot_df"
      ],
      "execution_count": 179,
      "outputs": [
        {
          "output_type": "execute_result",
          "data": {
            "text/html": [
              "<div>\n",
              "<style scoped>\n",
              "    .dataframe tbody tr th:only-of-type {\n",
              "        vertical-align: middle;\n",
              "    }\n",
              "\n",
              "    .dataframe tbody tr th {\n",
              "        vertical-align: top;\n",
              "    }\n",
              "\n",
              "    .dataframe thead th {\n",
              "        text-align: right;\n",
              "    }\n",
              "</style>\n",
              "<table border=\"1\" class=\"dataframe\">\n",
              "  <thead>\n",
              "    <tr style=\"text-align: right;\">\n",
              "      <th>type</th>\n",
              "      <th>Rural</th>\n",
              "      <th>Suburban</th>\n",
              "      <th>Urban</th>\n",
              "    </tr>\n",
              "    <tr>\n",
              "      <th>date</th>\n",
              "      <th></th>\n",
              "      <th></th>\n",
              "      <th></th>\n",
              "    </tr>\n",
              "  </thead>\n",
              "  <tbody>\n",
              "    <tr>\n",
              "      <th>2019-01-06</th>\n",
              "      <td>187.92</td>\n",
              "      <td>721.60</td>\n",
              "      <td>1661.68</td>\n",
              "    </tr>\n",
              "    <tr>\n",
              "      <th>2019-01-13</th>\n",
              "      <td>67.65</td>\n",
              "      <td>1105.13</td>\n",
              "      <td>2050.43</td>\n",
              "    </tr>\n",
              "    <tr>\n",
              "      <th>2019-01-20</th>\n",
              "      <td>306.00</td>\n",
              "      <td>1218.20</td>\n",
              "      <td>1939.02</td>\n",
              "    </tr>\n",
              "    <tr>\n",
              "      <th>2019-01-27</th>\n",
              "      <td>179.69</td>\n",
              "      <td>1203.28</td>\n",
              "      <td>2129.51</td>\n",
              "    </tr>\n",
              "    <tr>\n",
              "      <th>2019-02-03</th>\n",
              "      <td>333.08</td>\n",
              "      <td>1042.79</td>\n",
              "      <td>2086.94</td>\n",
              "    </tr>\n",
              "    <tr>\n",
              "      <th>2019-02-10</th>\n",
              "      <td>115.80</td>\n",
              "      <td>974.34</td>\n",
              "      <td>2162.64</td>\n",
              "    </tr>\n",
              "    <tr>\n",
              "      <th>2019-02-17</th>\n",
              "      <td>95.82</td>\n",
              "      <td>1045.50</td>\n",
              "      <td>2235.07</td>\n",
              "    </tr>\n",
              "    <tr>\n",
              "      <th>2019-02-24</th>\n",
              "      <td>419.06</td>\n",
              "      <td>1412.74</td>\n",
              "      <td>2466.29</td>\n",
              "    </tr>\n",
              "    <tr>\n",
              "      <th>2019-03-03</th>\n",
              "      <td>175.14</td>\n",
              "      <td>858.46</td>\n",
              "      <td>2218.20</td>\n",
              "    </tr>\n",
              "    <tr>\n",
              "      <th>2019-03-10</th>\n",
              "      <td>303.94</td>\n",
              "      <td>925.27</td>\n",
              "      <td>2470.93</td>\n",
              "    </tr>\n",
              "    <tr>\n",
              "      <th>2019-03-17</th>\n",
              "      <td>163.39</td>\n",
              "      <td>906.20</td>\n",
              "      <td>2044.42</td>\n",
              "    </tr>\n",
              "    <tr>\n",
              "      <th>2019-03-24</th>\n",
              "      <td>189.76</td>\n",
              "      <td>1122.20</td>\n",
              "      <td>2368.37</td>\n",
              "    </tr>\n",
              "    <tr>\n",
              "      <th>2019-03-31</th>\n",
              "      <td>199.42</td>\n",
              "      <td>1045.06</td>\n",
              "      <td>1942.77</td>\n",
              "    </tr>\n",
              "    <tr>\n",
              "      <th>2019-04-07</th>\n",
              "      <td>501.24</td>\n",
              "      <td>1010.73</td>\n",
              "      <td>2356.70</td>\n",
              "    </tr>\n",
              "    <tr>\n",
              "      <th>2019-04-14</th>\n",
              "      <td>269.79</td>\n",
              "      <td>784.82</td>\n",
              "      <td>2390.72</td>\n",
              "    </tr>\n",
              "    <tr>\n",
              "      <th>2019-04-21</th>\n",
              "      <td>214.14</td>\n",
              "      <td>1149.27</td>\n",
              "      <td>2303.80</td>\n",
              "    </tr>\n",
              "    <tr>\n",
              "      <th>2019-04-28</th>\n",
              "      <td>191.85</td>\n",
              "      <td>1357.75</td>\n",
              "      <td>2238.29</td>\n",
              "    </tr>\n",
              "  </tbody>\n",
              "</table>\n",
              "</div>"
            ],
            "text/plain": [
              "type         Rural  Suburban    Urban\n",
              "date                                 \n",
              "2019-01-06  187.92    721.60  1661.68\n",
              "2019-01-13   67.65   1105.13  2050.43\n",
              "2019-01-20  306.00   1218.20  1939.02\n",
              "2019-01-27  179.69   1203.28  2129.51\n",
              "2019-02-03  333.08   1042.79  2086.94\n",
              "2019-02-10  115.80    974.34  2162.64\n",
              "2019-02-17   95.82   1045.50  2235.07\n",
              "2019-02-24  419.06   1412.74  2466.29\n",
              "2019-03-03  175.14    858.46  2218.20\n",
              "2019-03-10  303.94    925.27  2470.93\n",
              "2019-03-17  163.39    906.20  2044.42\n",
              "2019-03-24  189.76   1122.20  2368.37\n",
              "2019-03-31  199.42   1045.06  1942.77\n",
              "2019-04-07  501.24   1010.73  2356.70\n",
              "2019-04-14  269.79    784.82  2390.72\n",
              "2019-04-21  214.14   1149.27  2303.80\n",
              "2019-04-28  191.85   1357.75  2238.29"
            ]
          },
          "metadata": {
            "tags": []
          },
          "execution_count": 179
        }
      ]
    },
    {
      "cell_type": "code",
      "metadata": {
        "id": "CEmQUj6XIBpy",
        "colab_type": "code",
        "colab": {
          "base_uri": "https://localhost:8080/",
          "height": 372
        },
        "outputId": "5ed2bfc7-f1e2-43ea-8e0f-7b292992806c"
      },
      "source": [
        "# 8. Using the object-oriented interface method, plot the resample DataFrame using the df.plot() function. \n",
        "times_places_pivot_df.plot(figsize=(15,5))\n",
        "# Import the style from Matplotlib.\n",
        "from matplotlib import style\n",
        "# Use the graph style fivethirtyeight.\n",
        "style.use('fivethirtyeight')\n",
        "plt.title(\"Total Fare by City Type\")\n",
        "plt.ylabel('Fare (USD)')\n",
        "plt.savefig(\"PyBer_fare_summary.png\")\n",
        "#times_places_pivot_df.plot()\n"
      ],
      "execution_count": 191,
      "outputs": [
        {
          "output_type": "display_data",
          "data": {
            "image/png": "[encoded data removed]",
            "text/plain": [
              "<Figure size 1080x360 with 1 Axes>"
            ]
          },
          "metadata": {
            "tags": []
          }
        }
      ]
    },
    {
      "cell_type": "code",
      "metadata": {
        "id": "q7D8ofh9IBp0",
        "colab_type": "code",
        "colab": {}
      },
      "source": [
        ""
      ],
      "execution_count": null,
      "outputs": []
    }
  ]
}