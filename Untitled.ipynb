{
 "cells": [
  {
   "cell_type": "code",
   "execution_count": null,
   "metadata": {},
   "outputs": [],
   "source": [
    "%matplotlib notebook\n"
   ]
  },
  {
   "cell_type": "code",
   "execution_count": null,
   "metadata": {},
   "outputs": [],
   "source": [
    "RailGun = [75, 70, 60, 65, 60, 45, 55, 50, 40, 40, 35, 35, 30]\n",
    "\n",
    "Danger Drop = [9, 8, 90, 85, 80, 70, 70, 65, 55, 60, 70, 65, 50]\n",
    "XAXIS = [10,20,30,40,50,60,70,80,90,100,110,120]\n",
    "XAXIS"
   ]
  },
  {
   "cell_type": "code",
   "execution_count": null,
   "metadata": {},
   "outputs": [],
   "source": [
    "bitcoin_df = pd.read_csv(bitcoin_csv)"
   ]
  }
 ],
 "metadata": {
  "kernelspec": {
   "display_name": "PythonData",
   "language": "python",
   "name": "pythondata"
  }
 },
 "nbformat": 4,
 "nbformat_minor": 4
}
