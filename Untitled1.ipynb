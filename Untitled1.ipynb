{
 "cells": [
  {
   "cell_type": "code",
   "execution_count": 3,
   "metadata": {},
   "outputs": [
    {
     "ename": "SyntaxError",
     "evalue": "unmatched '}' (<ipython-input-3-cb019ecdd9ce>, line 26)",
     "output_type": "error",
     "traceback": [
      "\u001b[1;36m  File \u001b[1;32m\"<ipython-input-3-cb019ecdd9ce>\"\u001b[1;36m, line \u001b[1;32m26\u001b[0m\n\u001b[1;33m    }\u001b[0m\n\u001b[1;37m    ^\u001b[0m\n\u001b[1;31mSyntaxError\u001b[0m\u001b[1;31m:\u001b[0m unmatched '}'\n"
     ]
    }
   ],
   "source": [
    "\n",
    "    \"import pandas as pd\"\n",
    "import pandas as pd\n",
    "import os\n",
    "    \"# The path to our CSV file\\n\",\n",
    "file = \"C:\\Users\\jrhat\\Downloads\\UT-MCC-VIRT-DATA-PT-07-2020-U-B-master (2)\\UT-MCC-VIRT-DATA-PT-07-2020-U-B-master\\class-content\\04-Lessons\\2-Required\\Activities\\01-Stu_CleaningKickstarter\\Unsolved\"  \n",
    "\n",
    "file_df = pd.open(file)    \n",
    "    \"\\n\"\n",
    "    \"# Read our Kickstarter data into pandas\"\n",
    "    \"# Get a list of all of our columns for easy reference\"\n",
    "\n",
    "    \"# Extract \\\"name\\\", \\\"goal\\\", \\\"pledged\\\", \\\"state\\\", \\\"country\\\", \\\"staff_pick\\\",\\n\",\n",
    "    \"# \\\"backers_count\\\", and \\\"spotlight\\\"\"\n",
    "    \"# Remove projects that made no money at all\"\n",
    "    \"# Collect only those projects that were hosted in the US\\n\",\n",
    "    \"# Create a list of the columns\\n\",\n",
    "    \"# Create a new df for \\\"US\\\" with the columns above. \"\n",
    "    \"# Create a new column that finds the average amount pledged to a project\"\n",
    "    \"# First convert \\\"average_donation\\\", \\\"goal\\\", and \\\"pledged\\\" columns to float\\n\",\n",
    "    \"# Then Format to go to two decimal places, include a dollar sign, and use comma notation\"\n",
    "    \"# Calculate the total number of backers for all US projects\"\n",
    "    \"# Calculate the average number of backers for all US projects\"\n",
    "    \"# Collect only those US campaigns that have been picked as a \\\"Staff Pick\\\"\"\n",
    "    \"# Group by the state of the campaigns and see if staff picks matter (Seems to matter quite a bit)\"\n",
    " \n",
    "}\n"
   ]
  },
  {
   "cell_type": "code",
   "execution_count": null,
   "metadata": {},
   "outputs": [],
   "source": []
  }
 ],
 "metadata": {
  "kernelspec": {
   "display_name": "PythonData",
   "language": "python",
   "name": "pythondata"
  },
  "language_info": {
   "codemirror_mode": {
    "name": "ipython",
    "version": 3
   },
   "file_extension": ".py",
   "mimetype": "text/x-python",
   "name": "python",
   "nbconvert_exporter": "python",
   "pygments_lexer": "ipython3",
   "version": "3.8.3"
  }
 },
 "nbformat": 4,
 "nbformat_minor": 4
}
