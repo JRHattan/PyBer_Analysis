{
  "nbformat": 4,
  "nbformat_minor": 0,
  "metadata": {
    "colab": {
      "name": "PyBer.ipynb",
      "provenance": [],
      "collapsed_sections": []
    },
    "kernelspec": {
      "name": "python3",
      "display_name": "Python 3"
    }
  },
  "cells": [
    {
      "cell_type": "code",
      "metadata": {
        "id": "-KxRh3LuvwjH",
        "colab_type": "code",
        "colab": {}
      },
      "source": [
        "# Add Matplotlib inline magic command\n",
        "%matplotlib inline\n",
        "# Dependencies and Setup\n",
        "import matplotlib.pyplot as plt\n",
        "import pandas as pd\n",
        "# Import NumPy and the stats module from SciPy.\n",
        "import numpy as np\n",
        "import scipy.stats as sts"
      ],
      "execution_count": 38,
      "outputs": []
    },
    {
      "cell_type": "code",
      "metadata": {
        "id": "UYZMg6h1w8sr",
        "colab_type": "code",
        "colab": {}
      },
      "source": [
        "# Files to load\n",
        "city_data_to_load = \"/city_data.csv\"\n",
        "ride_data_to_load = \"/ride_data.csv\"\n"
      ],
      "execution_count": 2,
      "outputs": []
    },
    {
      "cell_type": "code",
      "metadata": {
        "id": "8vco15mfxYO_",
        "colab_type": "code",
        "colab": {
          "base_uri": "https://localhost:8080/",
          "height": 359
        },
        "outputId": "129abbab-06b5-449c-875f-7707ab3cfc7b"
      },
      "source": [
        "# Read the city data file and store it in a pandas DataFrame.\n",
        "city_data_df = pd.read_csv(city_data_to_load)\n",
        "city_data_df.head(10)"
      ],
      "execution_count": 3,
      "outputs": [
        {
          "output_type": "execute_result",
          "data": {
            "text/html": [
              "<div>\n",
              "<style scoped>\n",
              "    .dataframe tbody tr th:only-of-type {\n",
              "        vertical-align: middle;\n",
              "    }\n",
              "\n",
              "    .dataframe tbody tr th {\n",
              "        vertical-align: top;\n",
              "    }\n",
              "\n",
              "    .dataframe thead th {\n",
              "        text-align: right;\n",
              "    }\n",
              "</style>\n",
              "<table border=\"1\" class=\"dataframe\">\n",
              "  <thead>\n",
              "    <tr style=\"text-align: right;\">\n",
              "      <th></th>\n",
              "      <th>city</th>\n",
              "      <th>driver_count</th>\n",
              "      <th>type</th>\n",
              "    </tr>\n",
              "  </thead>\n",
              "  <tbody>\n",
              "    <tr>\n",
              "      <th>0</th>\n",
              "      <td>Richardfort</td>\n",
              "      <td>38</td>\n",
              "      <td>Urban</td>\n",
              "    </tr>\n",
              "    <tr>\n",
              "      <th>1</th>\n",
              "      <td>Williamsstad</td>\n",
              "      <td>59</td>\n",
              "      <td>Urban</td>\n",
              "    </tr>\n",
              "    <tr>\n",
              "      <th>2</th>\n",
              "      <td>Port Angela</td>\n",
              "      <td>67</td>\n",
              "      <td>Urban</td>\n",
              "    </tr>\n",
              "    <tr>\n",
              "      <th>3</th>\n",
              "      <td>Rodneyfort</td>\n",
              "      <td>34</td>\n",
              "      <td>Urban</td>\n",
              "    </tr>\n",
              "    <tr>\n",
              "      <th>4</th>\n",
              "      <td>West Robert</td>\n",
              "      <td>39</td>\n",
              "      <td>Urban</td>\n",
              "    </tr>\n",
              "    <tr>\n",
              "      <th>5</th>\n",
              "      <td>West Anthony</td>\n",
              "      <td>70</td>\n",
              "      <td>Urban</td>\n",
              "    </tr>\n",
              "    <tr>\n",
              "      <th>6</th>\n",
              "      <td>West Angela</td>\n",
              "      <td>48</td>\n",
              "      <td>Urban</td>\n",
              "    </tr>\n",
              "    <tr>\n",
              "      <th>7</th>\n",
              "      <td>Martinezhaven</td>\n",
              "      <td>25</td>\n",
              "      <td>Urban</td>\n",
              "    </tr>\n",
              "    <tr>\n",
              "      <th>8</th>\n",
              "      <td>Karenberg</td>\n",
              "      <td>22</td>\n",
              "      <td>Urban</td>\n",
              "    </tr>\n",
              "    <tr>\n",
              "      <th>9</th>\n",
              "      <td>Barajasview</td>\n",
              "      <td>26</td>\n",
              "      <td>Urban</td>\n",
              "    </tr>\n",
              "  </tbody>\n",
              "</table>\n",
              "</div>"
            ],
            "text/plain": [
              "            city  driver_count   type\n",
              "0    Richardfort            38  Urban\n",
              "1   Williamsstad            59  Urban\n",
              "2    Port Angela            67  Urban\n",
              "3     Rodneyfort            34  Urban\n",
              "4    West Robert            39  Urban\n",
              "5   West Anthony            70  Urban\n",
              "6    West Angela            48  Urban\n",
              "7  Martinezhaven            25  Urban\n",
              "8      Karenberg            22  Urban\n",
              "9    Barajasview            26  Urban"
            ]
          },
          "metadata": {
            "tags": []
          },
          "execution_count": 3
        }
      ]
    },
    {
      "cell_type": "code",
      "metadata": {
        "id": "UiwqPeWtxs27",
        "colab_type": "code",
        "colab": {
          "base_uri": "https://localhost:8080/",
          "height": 359
        },
        "outputId": "46ef609a-431c-448b-f02c-b5a75006a93b"
      },
      "source": [
        "# Read the ride data file and store it in a pandas DataFrame.\n",
        "ride_data_df = pd.read_csv(ride_data_to_load)\n",
        "ride_data_df.head(10)"
      ],
      "execution_count": 4,
      "outputs": [
        {
          "output_type": "execute_result",
          "data": {
            "text/html": [
              "<div>\n",
              "<style scoped>\n",
              "    .dataframe tbody tr th:only-of-type {\n",
              "        vertical-align: middle;\n",
              "    }\n",
              "\n",
              "    .dataframe tbody tr th {\n",
              "        vertical-align: top;\n",
              "    }\n",
              "\n",
              "    .dataframe thead th {\n",
              "        text-align: right;\n",
              "    }\n",
              "</style>\n",
              "<table border=\"1\" class=\"dataframe\">\n",
              "  <thead>\n",
              "    <tr style=\"text-align: right;\">\n",
              "      <th></th>\n",
              "      <th>city</th>\n",
              "      <th>date</th>\n",
              "      <th>fare</th>\n",
              "      <th>ride_id</th>\n",
              "    </tr>\n",
              "  </thead>\n",
              "  <tbody>\n",
              "    <tr>\n",
              "      <th>0</th>\n",
              "      <td>Lake Jonathanshire</td>\n",
              "      <td>2019-01-14 10:14:22</td>\n",
              "      <td>13.83</td>\n",
              "      <td>5739410935873</td>\n",
              "    </tr>\n",
              "    <tr>\n",
              "      <th>1</th>\n",
              "      <td>South Michelleport</td>\n",
              "      <td>2019-03-04 18:24:09</td>\n",
              "      <td>30.24</td>\n",
              "      <td>2343912425577</td>\n",
              "    </tr>\n",
              "    <tr>\n",
              "      <th>2</th>\n",
              "      <td>Port Samanthamouth</td>\n",
              "      <td>2019-02-24 04:29:00</td>\n",
              "      <td>33.44</td>\n",
              "      <td>2005065760003</td>\n",
              "    </tr>\n",
              "    <tr>\n",
              "      <th>3</th>\n",
              "      <td>Rodneyfort</td>\n",
              "      <td>2019-02-10 23:22:03</td>\n",
              "      <td>23.44</td>\n",
              "      <td>5149245426178</td>\n",
              "    </tr>\n",
              "    <tr>\n",
              "      <th>4</th>\n",
              "      <td>South Jack</td>\n",
              "      <td>2019-03-06 04:28:35</td>\n",
              "      <td>34.58</td>\n",
              "      <td>3908451377344</td>\n",
              "    </tr>\n",
              "    <tr>\n",
              "      <th>5</th>\n",
              "      <td>South Latoya</td>\n",
              "      <td>2019-03-11 12:26:48</td>\n",
              "      <td>9.52</td>\n",
              "      <td>1994999424437</td>\n",
              "    </tr>\n",
              "    <tr>\n",
              "      <th>6</th>\n",
              "      <td>New Paulville</td>\n",
              "      <td>2019-02-27 11:17:56</td>\n",
              "      <td>43.25</td>\n",
              "      <td>793208410091</td>\n",
              "    </tr>\n",
              "    <tr>\n",
              "      <th>7</th>\n",
              "      <td>Simpsonburgh</td>\n",
              "      <td>2019-04-26 00:43:24</td>\n",
              "      <td>35.98</td>\n",
              "      <td>111953927754</td>\n",
              "    </tr>\n",
              "    <tr>\n",
              "      <th>8</th>\n",
              "      <td>South Karenland</td>\n",
              "      <td>2019-01-08 03:28:48</td>\n",
              "      <td>35.09</td>\n",
              "      <td>7995623208694</td>\n",
              "    </tr>\n",
              "    <tr>\n",
              "      <th>9</th>\n",
              "      <td>North Jasmine</td>\n",
              "      <td>2019-03-09 06:26:29</td>\n",
              "      <td>42.81</td>\n",
              "      <td>5327642267789</td>\n",
              "    </tr>\n",
              "  </tbody>\n",
              "</table>\n",
              "</div>"
            ],
            "text/plain": [
              "                 city                 date   fare        ride_id\n",
              "0  Lake Jonathanshire  2019-01-14 10:14:22  13.83  5739410935873\n",
              "1  South Michelleport  2019-03-04 18:24:09  30.24  2343912425577\n",
              "2  Port Samanthamouth  2019-02-24 04:29:00  33.44  2005065760003\n",
              "3          Rodneyfort  2019-02-10 23:22:03  23.44  5149245426178\n",
              "4          South Jack  2019-03-06 04:28:35  34.58  3908451377344\n",
              "5        South Latoya  2019-03-11 12:26:48   9.52  1994999424437\n",
              "6       New Paulville  2019-02-27 11:17:56  43.25   793208410091\n",
              "7        Simpsonburgh  2019-04-26 00:43:24  35.98   111953927754\n",
              "8     South Karenland  2019-01-08 03:28:48  35.09  7995623208694\n",
              "9       North Jasmine  2019-03-09 06:26:29  42.81  5327642267789"
            ]
          },
          "metadata": {
            "tags": []
          },
          "execution_count": 4
        }
      ]
    },
    {
      "cell_type": "code",
      "metadata": {
        "id": "LG1GBk0ZyAAK",
        "colab_type": "code",
        "colab": {
          "base_uri": "https://localhost:8080/",
          "height": 85
        },
        "outputId": "d8d744b2-5051-444a-bb49-b67e9bdd383e"
      },
      "source": [
        "# Get the columns and the rows that are not null.\n",
        "city_data_df.count()"
      ],
      "execution_count": 8,
      "outputs": [
        {
          "output_type": "execute_result",
          "data": {
            "text/plain": [
              "city            120\n",
              "driver_count    120\n",
              "type            120\n",
              "dtype: int64"
            ]
          },
          "metadata": {
            "tags": []
          },
          "execution_count": 8
        }
      ]
    },
    {
      "cell_type": "code",
      "metadata": {
        "id": "TMh4n4jdyBZr",
        "colab_type": "code",
        "colab": {
          "base_uri": "https://localhost:8080/",
          "height": 85
        },
        "outputId": "779ed4fc-2bec-46a0-9be1-99f93ae5bae4"
      },
      "source": [
        "# Get the columns and the rows that are not null.\n",
        "city_data_df.isnull().sum()"
      ],
      "execution_count": 9,
      "outputs": [
        {
          "output_type": "execute_result",
          "data": {
            "text/plain": [
              "city            0\n",
              "driver_count    0\n",
              "type            0\n",
              "dtype: int64"
            ]
          },
          "metadata": {
            "tags": []
          },
          "execution_count": 9
        }
      ]
    },
    {
      "cell_type": "code",
      "metadata": {
        "id": "q8yDqPH-yYs-",
        "colab_type": "code",
        "colab": {
          "base_uri": "https://localhost:8080/",
          "height": 85
        },
        "outputId": "ebf145cc-28ee-4586-9bf7-e5f77a732e80"
      },
      "source": [
        "# Get the data types of each column.\n",
        "city_data_df.dtypes"
      ],
      "execution_count": 10,
      "outputs": [
        {
          "output_type": "execute_result",
          "data": {
            "text/plain": [
              "city            object\n",
              "driver_count     int64\n",
              "type            object\n",
              "dtype: object"
            ]
          },
          "metadata": {
            "tags": []
          },
          "execution_count": 10
        }
      ]
    },
    {
      "cell_type": "code",
      "metadata": {
        "id": "W0ZF7rksycNB",
        "colab_type": "code",
        "colab": {
          "base_uri": "https://localhost:8080/",
          "height": 34
        },
        "outputId": "b1b84723-3def-424e-c435-abdda8c2d87f"
      },
      "source": [
        "# Get the unique values of the type of city.\n",
        "city_data_df[\"type\"].unique()"
      ],
      "execution_count": 11,
      "outputs": [
        {
          "output_type": "execute_result",
          "data": {
            "text/plain": [
              "array(['Urban', 'Suburban', 'Rural'], dtype=object)"
            ]
          },
          "metadata": {
            "tags": []
          },
          "execution_count": 11
        }
      ]
    },
    {
      "cell_type": "code",
      "metadata": {
        "id": "tCb4BpStyke0",
        "colab_type": "code",
        "colab": {
          "base_uri": "https://localhost:8080/",
          "height": 34
        },
        "outputId": "aa16f3d3-be78-445f-e246-b8ace76f8d7a"
      },
      "source": [
        "# Get the number of data points from the Urban cities.\n",
        "sum(city_data_df[\"type\"]==\"Urban\")\n"
      ],
      "execution_count": 14,
      "outputs": [
        {
          "output_type": "execute_result",
          "data": {
            "text/plain": [
              "66"
            ]
          },
          "metadata": {
            "tags": []
          },
          "execution_count": 14
        }
      ]
    },
    {
      "cell_type": "code",
      "metadata": {
        "id": "IwQRlgKm0ed6",
        "colab_type": "code",
        "colab": {
          "base_uri": "https://localhost:8080/",
          "height": 34
        },
        "outputId": "cf0ad842-8dae-4213-986c-e7a428b4bbf1"
      },
      "source": [
        "sum(city_data_df[\"type\"]==\"Suburban\")"
      ],
      "execution_count": 16,
      "outputs": [
        {
          "output_type": "execute_result",
          "data": {
            "text/plain": [
              "36"
            ]
          },
          "metadata": {
            "tags": []
          },
          "execution_count": 16
        }
      ]
    },
    {
      "cell_type": "code",
      "metadata": {
        "id": "ad5LqPQf1oNj",
        "colab_type": "code",
        "colab": {
          "base_uri": "https://localhost:8080/",
          "height": 34
        },
        "outputId": "3bc17268-9b62-474c-a830-855b199ec186"
      },
      "source": [
        "sum(city_data_df[\"type\"]==\"Rural\")"
      ],
      "execution_count": 17,
      "outputs": [
        {
          "output_type": "execute_result",
          "data": {
            "text/plain": [
              "18"
            ]
          },
          "metadata": {
            "tags": []
          },
          "execution_count": 17
        }
      ]
    },
    {
      "cell_type": "code",
      "metadata": {
        "id": "53sFb_pM1wc7",
        "colab_type": "code",
        "colab": {
          "base_uri": "https://localhost:8080/",
          "height": 102
        },
        "outputId": "0918546a-f8c9-4d42-b768-2ee29cbd6701"
      },
      "source": [
        "# Get the columns and the rows that are not null.\n",
        "ride_data_df.count()"
      ],
      "execution_count": 18,
      "outputs": [
        {
          "output_type": "execute_result",
          "data": {
            "text/plain": [
              "city       2375\n",
              "date       2375\n",
              "fare       2375\n",
              "ride_id    2375\n",
              "dtype: int64"
            ]
          },
          "metadata": {
            "tags": []
          },
          "execution_count": 18
        }
      ]
    },
    {
      "cell_type": "code",
      "metadata": {
        "id": "1d-t-Bhm13CU",
        "colab_type": "code",
        "colab": {
          "base_uri": "https://localhost:8080/",
          "height": 102
        },
        "outputId": "3c062ad7-c4a0-4635-bfc7-1d47341e9f3d"
      },
      "source": [
        "# Get the data types of each column.\n",
        "ride_data_df.dtypes"
      ],
      "execution_count": 19,
      "outputs": [
        {
          "output_type": "execute_result",
          "data": {
            "text/plain": [
              "city        object\n",
              "date        object\n",
              "fare       float64\n",
              "ride_id      int64\n",
              "dtype: object"
            ]
          },
          "metadata": {
            "tags": []
          },
          "execution_count": 19
        }
      ]
    },
    {
      "cell_type": "code",
      "metadata": {
        "id": "RUaS6Qtl1-AB",
        "colab_type": "code",
        "colab": {
          "base_uri": "https://localhost:8080/",
          "height": 204
        },
        "outputId": "8ed3a486-ab58-4c40-f485-83dd361d0fd3"
      },
      "source": [
        "# Combine the data into a single dataset\n",
        "pyber_data_df = pd.merge(ride_data_df, city_data_df, how=\"left\", on=[\"city\", \"city\"])\n",
        "\n",
        "# Display the DataFrame\n",
        "pyber_data_df.head()"
      ],
      "execution_count": 5,
      "outputs": [
        {
          "output_type": "execute_result",
          "data": {
            "text/html": [
              "<div>\n",
              "<style scoped>\n",
              "    .dataframe tbody tr th:only-of-type {\n",
              "        vertical-align: middle;\n",
              "    }\n",
              "\n",
              "    .dataframe tbody tr th {\n",
              "        vertical-align: top;\n",
              "    }\n",
              "\n",
              "    .dataframe thead th {\n",
              "        text-align: right;\n",
              "    }\n",
              "</style>\n",
              "<table border=\"1\" class=\"dataframe\">\n",
              "  <thead>\n",
              "    <tr style=\"text-align: right;\">\n",
              "      <th></th>\n",
              "      <th>city</th>\n",
              "      <th>date</th>\n",
              "      <th>fare</th>\n",
              "      <th>ride_id</th>\n",
              "      <th>driver_count</th>\n",
              "      <th>type</th>\n",
              "    </tr>\n",
              "  </thead>\n",
              "  <tbody>\n",
              "    <tr>\n",
              "      <th>0</th>\n",
              "      <td>Lake Jonathanshire</td>\n",
              "      <td>2019-01-14 10:14:22</td>\n",
              "      <td>13.83</td>\n",
              "      <td>5739410935873</td>\n",
              "      <td>5</td>\n",
              "      <td>Urban</td>\n",
              "    </tr>\n",
              "    <tr>\n",
              "      <th>1</th>\n",
              "      <td>South Michelleport</td>\n",
              "      <td>2019-03-04 18:24:09</td>\n",
              "      <td>30.24</td>\n",
              "      <td>2343912425577</td>\n",
              "      <td>72</td>\n",
              "      <td>Urban</td>\n",
              "    </tr>\n",
              "    <tr>\n",
              "      <th>2</th>\n",
              "      <td>Port Samanthamouth</td>\n",
              "      <td>2019-02-24 04:29:00</td>\n",
              "      <td>33.44</td>\n",
              "      <td>2005065760003</td>\n",
              "      <td>57</td>\n",
              "      <td>Urban</td>\n",
              "    </tr>\n",
              "    <tr>\n",
              "      <th>3</th>\n",
              "      <td>Rodneyfort</td>\n",
              "      <td>2019-02-10 23:22:03</td>\n",
              "      <td>23.44</td>\n",
              "      <td>5149245426178</td>\n",
              "      <td>34</td>\n",
              "      <td>Urban</td>\n",
              "    </tr>\n",
              "    <tr>\n",
              "      <th>4</th>\n",
              "      <td>South Jack</td>\n",
              "      <td>2019-03-06 04:28:35</td>\n",
              "      <td>34.58</td>\n",
              "      <td>3908451377344</td>\n",
              "      <td>46</td>\n",
              "      <td>Urban</td>\n",
              "    </tr>\n",
              "  </tbody>\n",
              "</table>\n",
              "</div>"
            ],
            "text/plain": [
              "                 city                 date  ...  driver_count   type\n",
              "0  Lake Jonathanshire  2019-01-14 10:14:22  ...             5  Urban\n",
              "1  South Michelleport  2019-03-04 18:24:09  ...            72  Urban\n",
              "2  Port Samanthamouth  2019-02-24 04:29:00  ...            57  Urban\n",
              "3          Rodneyfort  2019-02-10 23:22:03  ...            34  Urban\n",
              "4          South Jack  2019-03-06 04:28:35  ...            46  Urban\n",
              "\n",
              "[5 rows x 6 columns]"
            ]
          },
          "metadata": {
            "tags": []
          },
          "execution_count": 5
        }
      ]
    },
    {
      "cell_type": "code",
      "metadata": {
        "id": "dX9FMA6dh233",
        "colab_type": "code",
        "colab": {
          "base_uri": "https://localhost:8080/",
          "height": 204
        },
        "outputId": "c8c53bcb-b7d8-4ac9-a41e-ff322f8e1d8b"
      },
      "source": [
        "# Create the Urban city DataFrame.\n",
        "urban_cities_df = pyber_data_df[pyber_data_df[\"type\"] == \"Urban\"]\n",
        "urban_cities_df.head()"
      ],
      "execution_count": 6,
      "outputs": [
        {
          "output_type": "execute_result",
          "data": {
            "text/html": [
              "<div>\n",
              "<style scoped>\n",
              "    .dataframe tbody tr th:only-of-type {\n",
              "        vertical-align: middle;\n",
              "    }\n",
              "\n",
              "    .dataframe tbody tr th {\n",
              "        vertical-align: top;\n",
              "    }\n",
              "\n",
              "    .dataframe thead th {\n",
              "        text-align: right;\n",
              "    }\n",
              "</style>\n",
              "<table border=\"1\" class=\"dataframe\">\n",
              "  <thead>\n",
              "    <tr style=\"text-align: right;\">\n",
              "      <th></th>\n",
              "      <th>city</th>\n",
              "      <th>date</th>\n",
              "      <th>fare</th>\n",
              "      <th>ride_id</th>\n",
              "      <th>driver_count</th>\n",
              "      <th>type</th>\n",
              "    </tr>\n",
              "  </thead>\n",
              "  <tbody>\n",
              "    <tr>\n",
              "      <th>0</th>\n",
              "      <td>Lake Jonathanshire</td>\n",
              "      <td>2019-01-14 10:14:22</td>\n",
              "      <td>13.83</td>\n",
              "      <td>5739410935873</td>\n",
              "      <td>5</td>\n",
              "      <td>Urban</td>\n",
              "    </tr>\n",
              "    <tr>\n",
              "      <th>1</th>\n",
              "      <td>South Michelleport</td>\n",
              "      <td>2019-03-04 18:24:09</td>\n",
              "      <td>30.24</td>\n",
              "      <td>2343912425577</td>\n",
              "      <td>72</td>\n",
              "      <td>Urban</td>\n",
              "    </tr>\n",
              "    <tr>\n",
              "      <th>2</th>\n",
              "      <td>Port Samanthamouth</td>\n",
              "      <td>2019-02-24 04:29:00</td>\n",
              "      <td>33.44</td>\n",
              "      <td>2005065760003</td>\n",
              "      <td>57</td>\n",
              "      <td>Urban</td>\n",
              "    </tr>\n",
              "    <tr>\n",
              "      <th>3</th>\n",
              "      <td>Rodneyfort</td>\n",
              "      <td>2019-02-10 23:22:03</td>\n",
              "      <td>23.44</td>\n",
              "      <td>5149245426178</td>\n",
              "      <td>34</td>\n",
              "      <td>Urban</td>\n",
              "    </tr>\n",
              "    <tr>\n",
              "      <th>4</th>\n",
              "      <td>South Jack</td>\n",
              "      <td>2019-03-06 04:28:35</td>\n",
              "      <td>34.58</td>\n",
              "      <td>3908451377344</td>\n",
              "      <td>46</td>\n",
              "      <td>Urban</td>\n",
              "    </tr>\n",
              "  </tbody>\n",
              "</table>\n",
              "</div>"
            ],
            "text/plain": [
              "                 city                 date  ...  driver_count   type\n",
              "0  Lake Jonathanshire  2019-01-14 10:14:22  ...             5  Urban\n",
              "1  South Michelleport  2019-03-04 18:24:09  ...            72  Urban\n",
              "2  Port Samanthamouth  2019-02-24 04:29:00  ...            57  Urban\n",
              "3          Rodneyfort  2019-02-10 23:22:03  ...            34  Urban\n",
              "4          South Jack  2019-03-06 04:28:35  ...            46  Urban\n",
              "\n",
              "[5 rows x 6 columns]"
            ]
          },
          "metadata": {
            "tags": []
          },
          "execution_count": 6
        }
      ]
    },
    {
      "cell_type": "code",
      "metadata": {
        "id": "MUXtX24-mE5w",
        "colab_type": "code",
        "colab": {}
      },
      "source": [
        "# Create the Suburban and Rural city DataFrames.\n",
        "suburban_cities_df = pyber_data_df[pyber_data_df[\"type\"] == \"Suburban\"]\n",
        "rural_cities_df = pyber_data_df[pyber_data_df[\"type\"] == \"Rural\"]"
      ],
      "execution_count": 7,
      "outputs": []
    },
    {
      "cell_type": "code",
      "metadata": {
        "id": "kiAM_DKmmMiv",
        "colab_type": "code",
        "colab": {
          "base_uri": "https://localhost:8080/",
          "height": 204
        },
        "outputId": "67980020-7990-465f-fe36-cf1dd4bc2c22"
      },
      "source": [
        "rural_cities_df.head()"
      ],
      "execution_count": 8,
      "outputs": [
        {
          "output_type": "execute_result",
          "data": {
            "text/html": [
              "<div>\n",
              "<style scoped>\n",
              "    .dataframe tbody tr th:only-of-type {\n",
              "        vertical-align: middle;\n",
              "    }\n",
              "\n",
              "    .dataframe tbody tr th {\n",
              "        vertical-align: top;\n",
              "    }\n",
              "\n",
              "    .dataframe thead th {\n",
              "        text-align: right;\n",
              "    }\n",
              "</style>\n",
              "<table border=\"1\" class=\"dataframe\">\n",
              "  <thead>\n",
              "    <tr style=\"text-align: right;\">\n",
              "      <th></th>\n",
              "      <th>city</th>\n",
              "      <th>date</th>\n",
              "      <th>fare</th>\n",
              "      <th>ride_id</th>\n",
              "      <th>driver_count</th>\n",
              "      <th>type</th>\n",
              "    </tr>\n",
              "  </thead>\n",
              "  <tbody>\n",
              "    <tr>\n",
              "      <th>2250</th>\n",
              "      <td>Randallchester</td>\n",
              "      <td>2019-04-13 11:13:31</td>\n",
              "      <td>43.22</td>\n",
              "      <td>1076079536213</td>\n",
              "      <td>9</td>\n",
              "      <td>Rural</td>\n",
              "    </tr>\n",
              "    <tr>\n",
              "      <th>2251</th>\n",
              "      <td>North Holly</td>\n",
              "      <td>2019-02-02 14:54:00</td>\n",
              "      <td>12.42</td>\n",
              "      <td>1985256326182</td>\n",
              "      <td>8</td>\n",
              "      <td>Rural</td>\n",
              "    </tr>\n",
              "    <tr>\n",
              "      <th>2252</th>\n",
              "      <td>Michaelberg</td>\n",
              "      <td>2019-03-27 18:27:34</td>\n",
              "      <td>54.85</td>\n",
              "      <td>4421836952718</td>\n",
              "      <td>6</td>\n",
              "      <td>Rural</td>\n",
              "    </tr>\n",
              "    <tr>\n",
              "      <th>2253</th>\n",
              "      <td>Lake Latoyabury</td>\n",
              "      <td>2019-02-23 21:12:24</td>\n",
              "      <td>47.90</td>\n",
              "      <td>3269652929887</td>\n",
              "      <td>2</td>\n",
              "      <td>Rural</td>\n",
              "    </tr>\n",
              "    <tr>\n",
              "      <th>2254</th>\n",
              "      <td>Lake Latoyabury</td>\n",
              "      <td>2019-05-06 08:57:56</td>\n",
              "      <td>51.80</td>\n",
              "      <td>4018025271936</td>\n",
              "      <td>2</td>\n",
              "      <td>Rural</td>\n",
              "    </tr>\n",
              "  </tbody>\n",
              "</table>\n",
              "</div>"
            ],
            "text/plain": [
              "                 city                 date  ...  driver_count   type\n",
              "2250   Randallchester  2019-04-13 11:13:31  ...             9  Rural\n",
              "2251      North Holly  2019-02-02 14:54:00  ...             8  Rural\n",
              "2252      Michaelberg  2019-03-27 18:27:34  ...             6  Rural\n",
              "2253  Lake Latoyabury  2019-02-23 21:12:24  ...             2  Rural\n",
              "2254  Lake Latoyabury  2019-05-06 08:57:56  ...             2  Rural\n",
              "\n",
              "[5 rows x 6 columns]"
            ]
          },
          "metadata": {
            "tags": []
          },
          "execution_count": 8
        }
      ]
    },
    {
      "cell_type": "code",
      "metadata": {
        "id": "ALfZczxVmVzU",
        "colab_type": "code",
        "colab": {
          "base_uri": "https://localhost:8080/",
          "height": 136
        },
        "outputId": "2594b86c-93b0-45a1-ab7f-79ca4530d5ab"
      },
      "source": [
        "# Get the number of rides for urban cities.\n",
        "urban_ride_count = urban_cities_df.groupby([\"city\"]).count()[\"ride_id\"]\n",
        "urban_ride_count.head()"
      ],
      "execution_count": 9,
      "outputs": [
        {
          "output_type": "execute_result",
          "data": {
            "text/plain": [
              "city\n",
              "Amandaburgh        18\n",
              "Barajasview        22\n",
              "Carriemouth        27\n",
              "Christopherfurt    27\n",
              "Deanville          19\n",
              "Name: ride_id, dtype: int64"
            ]
          },
          "metadata": {
            "tags": []
          },
          "execution_count": 9
        }
      ]
    },
    {
      "cell_type": "code",
      "metadata": {
        "id": "tzKsmjrxmctE",
        "colab_type": "code",
        "colab": {}
      },
      "source": [
        "# Create the suburban and rural ride count.\n",
        "suburban_ride_count = suburban_cities_df.groupby([\"city\"]).count()[\"ride_id\"]\n",
        "\n",
        "rural_ride_count = rural_cities_df.groupby([\"city\"]).count()[\"ride_id\"]"
      ],
      "execution_count": 10,
      "outputs": []
    },
    {
      "cell_type": "code",
      "metadata": {
        "id": "EzM42czAms6d",
        "colab_type": "code",
        "colab": {
          "base_uri": "https://localhost:8080/",
          "height": 136
        },
        "outputId": "01eaf16a-3ad0-4fd8-bc55-4899290dffb5"
      },
      "source": [
        "# Get average fare for each city in the urban cities.\n",
        "urban_avg_fare = urban_cities_df.groupby([\"city\"]).mean()[\"fare\"]\n",
        "urban_avg_fare.head()"
      ],
      "execution_count": 11,
      "outputs": [
        {
          "output_type": "execute_result",
          "data": {
            "text/plain": [
              "city\n",
              "Amandaburgh        24.641667\n",
              "Barajasview        25.332273\n",
              "Carriemouth        28.314444\n",
              "Christopherfurt    24.501852\n",
              "Deanville          25.842632\n",
              "Name: fare, dtype: float64"
            ]
          },
          "metadata": {
            "tags": []
          },
          "execution_count": 11
        }
      ]
    },
    {
      "cell_type": "code",
      "metadata": {
        "id": "pcPr3xkPnRNb",
        "colab_type": "code",
        "colab": {}
      },
      "source": [
        "# Get average fare for each city in the suburban and rural cities.\n",
        "suburban_avg_fare = suburban_cities_df.groupby([\"city\"]).mean()[\"fare\"]\n",
        "rural_avg_fare = rural_cities_df.groupby([\"city\"]).mean()[\"fare\"]"
      ],
      "execution_count": 13,
      "outputs": []
    },
    {
      "cell_type": "code",
      "metadata": {
        "id": "JCbNCai4oCoc",
        "colab_type": "code",
        "colab": {
          "base_uri": "https://localhost:8080/",
          "height": 136
        },
        "outputId": "2687ac67-4f89-4f1a-f26c-cd67179e4c82"
      },
      "source": [
        "# Get the average number of drivers for each urban city.\n",
        "urban_driver_count = urban_cities_df.groupby([\"city\"]).mean()[\"driver_count\"]\n",
        "urban_driver_count.head()"
      ],
      "execution_count": 14,
      "outputs": [
        {
          "output_type": "execute_result",
          "data": {
            "text/plain": [
              "city\n",
              "Amandaburgh        12.0\n",
              "Barajasview        26.0\n",
              "Carriemouth        52.0\n",
              "Christopherfurt    41.0\n",
              "Deanville          49.0\n",
              "Name: driver_count, dtype: float64"
            ]
          },
          "metadata": {
            "tags": []
          },
          "execution_count": 14
        }
      ]
    },
    {
      "cell_type": "code",
      "metadata": {
        "id": "1vHN6q8GoeLs",
        "colab_type": "code",
        "colab": {}
      },
      "source": [
        "# Get the average number of drivers for each city for the suburban and rural cities.\n",
        "suburban_driver_count = suburban_cities_df.groupby([\"city\"]).mean()[\"driver_count\"]\n",
        "rural_driver_count = rural_cities_df.groupby([\"city\"]).mean()[\"driver_count\"]"
      ],
      "execution_count": 15,
      "outputs": []
    },
    {
      "cell_type": "code",
      "metadata": {
        "id": "KJnAzBo7opQL",
        "colab_type": "code",
        "colab": {}
      },
      "source": [
        "# Build the scatter plots for urban cities.\n",
        "plt.scatter(urban_ride_count, urban_avg_fare)"
      ],
      "execution_count": null,
      "outputs": []
    },
    {
      "cell_type": "code",
      "metadata": {
        "id": "VJ3ueYlxpANU",
        "colab_type": "code",
        "colab": {
          "base_uri": "https://localhost:8080/",
          "height": 282
        },
        "outputId": "5a704ad0-b98b-4960-b0f9-5aee5dd89a1f"
      },
      "source": [
        "# Build the scatter plots for urban cities.\n",
        "plt.scatter(urban_ride_count,\n",
        "      urban_avg_fare,\n",
        "      s=urban_driver_count)"
      ],
      "execution_count": 16,
      "outputs": [
        {
          "output_type": "execute_result",
          "data": {
            "text/plain": [
              "<matplotlib.collections.PathCollection at 0x7fce8f73f5c0>"
            ]
          },
          "metadata": {
            "tags": []
          },
          "execution_count": 16
        },
        {
          "output_type": "display_data",
          "data": {
            "image/png": "[encoded data removed]",
            "text/plain": [
              "<Figure size 432x288 with 1 Axes>"
            ]
          },
          "metadata": {
            "tags": [],
            "needs_background": "light"
          }
        }
      ]
    },
    {
      "cell_type": "code",
      "metadata": {
        "id": "jYpeW2tipEgL",
        "colab_type": "code",
        "colab": {
          "base_uri": "https://localhost:8080/",
          "height": 312
        },
        "outputId": "509eda57-37b8-4aa1-c5f9-e70724c6c5c9"
      },
      "source": [
        "# Build the scatter plots for urban cities.\n",
        "plt.scatter(urban_ride_count,\n",
        "      urban_avg_fare,\n",
        "      s=10*urban_driver_count, c=\"coral\",\n",
        "      edgecolor=\"black\", linewidths=1,\n",
        "      alpha=0.8, label=\"Urban\")\n",
        "plt.title(\"PyBer Ride-Sharing Data (2019)\")\n",
        "plt.ylabel(\"Average Fare ($)\")\n",
        "plt.xlabel(\"Total Number of Rides (Per City)\")\n",
        "plt.grid(True)\n",
        "# Add the legend.\n",
        "plt.legend()"
      ],
      "execution_count": 17,
      "outputs": [
        {
          "output_type": "execute_result",
          "data": {
            "text/plain": [
              "<matplotlib.legend.Legend at 0x7fce8efeb358>"
            ]
          },
          "metadata": {
            "tags": []
          },
          "execution_count": 17
        },
        {
          "output_type": "display_data",
          "data": {
            "image/png": "[encoded data removed]",
            "text/plain": [
              "<Figure size 432x288 with 1 Axes>"
            ]
          },
          "metadata": {
            "tags": [],
            "needs_background": "light"
          }
        }
      ]
    },
    {
      "cell_type": "code",
      "metadata": {
        "id": "0haZHIDOpI9_",
        "colab_type": "code",
        "colab": {
          "base_uri": "https://localhost:8080/",
          "height": 312
        },
        "outputId": "9779eccd-1e69-46d2-c78b-09cd0b368a70"
      },
      "source": [
        "# Build the scatter plots for suburban cities.\n",
        "plt.scatter(suburban_ride_count,\n",
        "      suburban_avg_fare,\n",
        "      s=10*suburban_driver_count, c=\"skyblue\",\n",
        "      edgecolor=\"black\", linewidths=1,\n",
        "      alpha=0.8, label=\"Suburban\")\n",
        "plt.title(\"PyBer Ride-Sharing Data (2019)\")\n",
        "plt.ylabel(\"Average Fare ($)\")\n",
        "plt.xlabel(\"Total Number of Rides (Per City)\")\n",
        "plt.grid(True)\n",
        "# Add the legend.\n",
        "plt.legend()"
      ],
      "execution_count": 18,
      "outputs": [
        {
          "output_type": "execute_result",
          "data": {
            "text/plain": [
              "<matplotlib.legend.Legend at 0x7fce8df69630>"
            ]
          },
          "metadata": {
            "tags": []
          },
          "execution_count": 18
        },
        {
          "output_type": "display_data",
          "data": {
            "image/png": "[encoded data removed]",
            "text/plain": [
              "<Figure size 432x288 with 1 Axes>"
            ]
          },
          "metadata": {
            "tags": [],
            "needs_background": "light"
          }
        }
      ]
    },
    {
      "cell_type": "code",
      "metadata": {
        "id": "0teT7SyhpNI6",
        "colab_type": "code",
        "colab": {
          "base_uri": "https://localhost:8080/",
          "height": 312
        },
        "outputId": "2462c9a4-b88f-4a14-b7ce-b9bc2992810e"
      },
      "source": [
        "# Build the scatter plots for rural cities.\n",
        "plt.scatter(rural_ride_count,\n",
        "      rural_avg_fare,\n",
        "      s=10*rural_driver_count, c=\"gold\",\n",
        "      edgecolor=\"black\", linewidths=1,\n",
        "      alpha=0.8, label=\"Rural\")\n",
        "plt.title(\"PyBer Ride-Sharing Data (2019)\")\n",
        "plt.ylabel(\"Average Fare ($)\")\n",
        "plt.xlabel(\"Total Number of Rides (Per City)\")\n",
        "plt.grid(True)\n",
        "# Add the legend.\n",
        "plt.legend()"
      ],
      "execution_count": 19,
      "outputs": [
        {
          "output_type": "execute_result",
          "data": {
            "text/plain": [
              "<matplotlib.legend.Legend at 0x7fce8dee0be0>"
            ]
          },
          "metadata": {
            "tags": []
          },
          "execution_count": 19
        },
        {
          "output_type": "display_data",
          "data": {
            "image/png": "[encoded data removed]",
            "text/plain": [
              "<Figure size 432x288 with 1 Axes>"
            ]
          },
          "metadata": {
            "tags": [],
            "needs_background": "light"
          }
        }
      ]
    },
    {
      "cell_type": "code",
      "metadata": {
        "id": "WuP_Ic_NpSMD",
        "colab_type": "code",
        "colab": {
          "base_uri": "https://localhost:8080/",
          "height": 265
        },
        "outputId": "64ff0a90-d813-47dc-a7b7-8f970069f819"
      },
      "source": [
        "# Add the scatter charts for each type of city.\n",
        "plt.scatter(urban_ride_count,\n",
        "      urban_avg_fare,\n",
        "      s=10*urban_driver_count, c=\"coral\",\n",
        "      edgecolor=\"black\", linewidths=1,\n",
        "      alpha=0.8, label=\"Urban\")\n",
        "\n",
        "plt.scatter(suburban_ride_count,\n",
        "      suburban_avg_fare,\n",
        "      s=10*suburban_driver_count, c=\"skyblue\",\n",
        "      edgecolor=\"black\", linewidths=1,\n",
        "      alpha=0.8, label=\"Suburban\")\n",
        "\n",
        "plt.scatter(rural_ride_count,\n",
        "      rural_avg_fare,\n",
        "      s=10*rural_driver_count, c=\"gold\",\n",
        "      edgecolor=\"black\", linewidths=1,\n",
        "      alpha=0.8, label=\"Rural\")\n",
        "\n",
        "# Show the plot\n",
        "plt.show()"
      ],
      "execution_count": 20,
      "outputs": [
        {
          "output_type": "display_data",
          "data": {
            "image/png": "[encoded data removed]",
            "text/plain": [
              "<Figure size 432x288 with 1 Axes>"
            ]
          },
          "metadata": {
            "tags": [],
            "needs_background": "light"
          }
        }
      ]
    },
    {
      "cell_type": "code",
      "metadata": {
        "id": "ZZhpPEMppYnK",
        "colab_type": "code",
        "colab": {
          "base_uri": "https://localhost:8080/",
          "height": 428
        },
        "outputId": "935f88b0-fc58-409b-bfcd-c76045dc1c71"
      },
      "source": [
        "# Build the scatter charts for each city type.\n",
        "plt.subplots(figsize=(10, 6))\n",
        "plt.scatter(urban_ride_count,\n",
        "      urban_avg_fare,\n",
        "      s=10*urban_driver_count, c=\"coral\",\n",
        "      edgecolor=\"black\", linewidths=1,\n",
        "      alpha=0.8, label=\"Urban\")\n",
        "\n",
        "plt.scatter(suburban_ride_count,\n",
        "      suburban_avg_fare,\n",
        "      s=10*suburban_driver_count, c=\"skyblue\",\n",
        "      edgecolor=\"black\", linewidths=1,\n",
        "      alpha=0.8, label=\"Suburban\")\n",
        "\n",
        "plt.scatter(rural_ride_count,\n",
        "      rural_avg_fare,\n",
        "      s=10*rural_driver_count, c=\"gold\",\n",
        "      edgecolor=\"black\", linewidths=1,\n",
        "      alpha=0.8, label=\"Rural\")\n",
        "\n",
        "# Incorporate the other graph properties\n",
        "plt.title(\"PyBer Ride-Sharing Data (2019)\", fontsize=20)\n",
        "plt.ylabel(\"Average Fare ($)\", fontsize=12)\n",
        "plt.xlabel(\"Total Number of Rides (Per City)\", fontsize=12)\n",
        "plt.grid(True)\n",
        "\n",
        "# Create a legend\n",
        "lgnd = plt.legend(fontsize=\"12\", mode=\"Expanded\",\n",
        "         scatterpoints=1, loc=\"best\", title=\"City Types\")\n",
        "lgnd.legendHandles[0]._sizes = [75]\n",
        "lgnd.legendHandles[1]._sizes = [75]\n",
        "lgnd.legendHandles[2]._sizes = [75]\n",
        "lgnd.get_title().set_fontsize(12)\n",
        "# Incorporate a text label about circle size.\n",
        "plt.text(42, 35, \"Note: Circle size correlates with driver count per city.\", fontsize=\"12\")\n",
        "# Show the plot\n",
        "plt.show()\n",
        "\n",
        "# Save the figure.\n",
        "plt.savefig(\"Fig1.png\")"
      ],
      "execution_count": 26,
      "outputs": [
        {
          "output_type": "display_data",
          "data": {
            "image/png": "[encoded data removed]",
            "text/plain": [
              "<Figure size 720x432 with 1 Axes>"
            ]
          },
          "metadata": {
            "tags": [],
            "needs_background": "light"
          }
        },
        {
          "output_type": "display_data",
          "data": {
            "text/plain": [
              "<Figure size 432x288 with 0 Axes>"
            ]
          },
          "metadata": {
            "tags": []
          }
        }
      ]
    },
    {
      "cell_type": "code",
      "metadata": {
        "id": "Z2Z0YkglpeTK",
        "colab_type": "code",
        "colab": {
          "base_uri": "https://localhost:8080/",
          "height": 297
        },
        "outputId": "ea2f07d4-5876-44b2-8678-d89c9f488f25"
      },
      "source": [
        "# Get summary statistics.\n",
        "urban_cities_df.describe()"
      ],
      "execution_count": 27,
      "outputs": [
        {
          "output_type": "execute_result",
          "data": {
            "text/html": [
              "<div>\n",
              "<style scoped>\n",
              "    .dataframe tbody tr th:only-of-type {\n",
              "        vertical-align: middle;\n",
              "    }\n",
              "\n",
              "    .dataframe tbody tr th {\n",
              "        vertical-align: top;\n",
              "    }\n",
              "\n",
              "    .dataframe thead th {\n",
              "        text-align: right;\n",
              "    }\n",
              "</style>\n",
              "<table border=\"1\" class=\"dataframe\">\n",
              "  <thead>\n",
              "    <tr style=\"text-align: right;\">\n",
              "      <th></th>\n",
              "      <th>fare</th>\n",
              "      <th>ride_id</th>\n",
              "      <th>driver_count</th>\n",
              "    </tr>\n",
              "  </thead>\n",
              "  <tbody>\n",
              "    <tr>\n",
              "      <th>count</th>\n",
              "      <td>1625.000000</td>\n",
              "      <td>1.625000e+03</td>\n",
              "      <td>1625.000000</td>\n",
              "    </tr>\n",
              "    <tr>\n",
              "      <th>mean</th>\n",
              "      <td>24.525772</td>\n",
              "      <td>4.873485e+12</td>\n",
              "      <td>36.678154</td>\n",
              "    </tr>\n",
              "    <tr>\n",
              "      <th>std</th>\n",
              "      <td>11.738649</td>\n",
              "      <td>2.907440e+12</td>\n",
              "      <td>20.075545</td>\n",
              "    </tr>\n",
              "    <tr>\n",
              "      <th>min</th>\n",
              "      <td>4.050000</td>\n",
              "      <td>1.458810e+10</td>\n",
              "      <td>3.000000</td>\n",
              "    </tr>\n",
              "    <tr>\n",
              "      <th>25%</th>\n",
              "      <td>14.550000</td>\n",
              "      <td>2.400244e+12</td>\n",
              "      <td>22.000000</td>\n",
              "    </tr>\n",
              "    <tr>\n",
              "      <th>50%</th>\n",
              "      <td>24.640000</td>\n",
              "      <td>4.711188e+12</td>\n",
              "      <td>37.000000</td>\n",
              "    </tr>\n",
              "    <tr>\n",
              "      <th>75%</th>\n",
              "      <td>34.580000</td>\n",
              "      <td>7.451579e+12</td>\n",
              "      <td>52.000000</td>\n",
              "    </tr>\n",
              "    <tr>\n",
              "      <th>max</th>\n",
              "      <td>44.970000</td>\n",
              "      <td>9.991538e+12</td>\n",
              "      <td>73.000000</td>\n",
              "    </tr>\n",
              "  </tbody>\n",
              "</table>\n",
              "</div>"
            ],
            "text/plain": [
              "              fare       ride_id  driver_count\n",
              "count  1625.000000  1.625000e+03   1625.000000\n",
              "mean     24.525772  4.873485e+12     36.678154\n",
              "std      11.738649  2.907440e+12     20.075545\n",
              "min       4.050000  1.458810e+10      3.000000\n",
              "25%      14.550000  2.400244e+12     22.000000\n",
              "50%      24.640000  4.711188e+12     37.000000\n",
              "75%      34.580000  7.451579e+12     52.000000\n",
              "max      44.970000  9.991538e+12     73.000000"
            ]
          },
          "metadata": {
            "tags": []
          },
          "execution_count": 27
        }
      ]
    },
    {
      "cell_type": "code",
      "metadata": {
        "id": "nUV6x5q4qkuE",
        "colab_type": "code",
        "colab": {
          "base_uri": "https://localhost:8080/",
          "height": 170
        },
        "outputId": "1802ede1-c69a-4af5-e354-89c128d6bf40"
      },
      "source": [
        "# Get summary statistics.\n",
        "urban_ride_count.describe()"
      ],
      "execution_count": 28,
      "outputs": [
        {
          "output_type": "execute_result",
          "data": {
            "text/plain": [
              "count    66.000000\n",
              "mean     24.621212\n",
              "std       5.408726\n",
              "min      12.000000\n",
              "25%      21.000000\n",
              "50%      24.000000\n",
              "75%      28.000000\n",
              "max      39.000000\n",
              "Name: ride_id, dtype: float64"
            ]
          },
          "metadata": {
            "tags": []
          },
          "execution_count": 28
        }
      ]
    },
    {
      "cell_type": "code",
      "metadata": {
        "id": "xW-1K1_oqnlA",
        "colab_type": "code",
        "colab": {
          "base_uri": "https://localhost:8080/",
          "height": 170
        },
        "outputId": "76873253-460e-4c2e-c3ef-d7f87dbd131b"
      },
      "source": [
        "# Get summary statistics.\n",
        "suburban_ride_count.describe()"
      ],
      "execution_count": 29,
      "outputs": [
        {
          "output_type": "execute_result",
          "data": {
            "text/plain": [
              "count    36.000000\n",
              "mean     17.361111\n",
              "std       4.323707\n",
              "min       9.000000\n",
              "25%      14.000000\n",
              "50%      17.000000\n",
              "75%      19.250000\n",
              "max      27.000000\n",
              "Name: ride_id, dtype: float64"
            ]
          },
          "metadata": {
            "tags": []
          },
          "execution_count": 29
        }
      ]
    },
    {
      "cell_type": "code",
      "metadata": {
        "id": "id1qVszKrOD6",
        "colab_type": "code",
        "colab": {
          "base_uri": "https://localhost:8080/",
          "height": 170
        },
        "outputId": "f92e2d8f-9ba2-4b1e-cf45-77e731e2d0c0"
      },
      "source": [
        "# Get summary statistics.\n",
        "rural_ride_count.describe()"
      ],
      "execution_count": 30,
      "outputs": [
        {
          "output_type": "execute_result",
          "data": {
            "text/plain": [
              "count    18.000000\n",
              "mean      6.944444\n",
              "std       2.508157\n",
              "min       3.000000\n",
              "25%       5.250000\n",
              "50%       6.000000\n",
              "75%       8.750000\n",
              "max      12.000000\n",
              "Name: ride_id, dtype: float64"
            ]
          },
          "metadata": {
            "tags": []
          },
          "execution_count": 30
        }
      ]
    },
    {
      "cell_type": "code",
      "metadata": {
        "id": "frYt6HAnrUxs",
        "colab_type": "code",
        "colab": {
          "base_uri": "https://localhost:8080/",
          "height": 34
        },
        "outputId": "3d72448c-7e10-4608-d320-00905a290f4a"
      },
      "source": [
        "# Calculate the mean of the ride count for each city type.\n",
        "round(urban_ride_count.mean(),2), round(suburban_ride_count.mean(),2), round(rural_ride_count.mean(),2)"
      ],
      "execution_count": 31,
      "outputs": [
        {
          "output_type": "execute_result",
          "data": {
            "text/plain": [
              "(24.62, 17.36, 6.94)"
            ]
          },
          "metadata": {
            "tags": []
          },
          "execution_count": 31
        }
      ]
    },
    {
      "cell_type": "code",
      "metadata": {
        "id": "xZOGDwntre7a",
        "colab_type": "code",
        "colab": {
          "base_uri": "https://localhost:8080/",
          "height": 34
        },
        "outputId": "f60b24aa-13ca-4d6a-b792-29bc69c4b25e"
      },
      "source": [
        "urban_ride_count.median()"
      ],
      "execution_count": 35,
      "outputs": [
        {
          "output_type": "execute_result",
          "data": {
            "text/plain": [
              "24.0"
            ]
          },
          "metadata": {
            "tags": []
          },
          "execution_count": 35
        }
      ]
    },
    {
      "cell_type": "code",
      "metadata": {
        "id": "lURFSnhkr7O6",
        "colab_type": "code",
        "colab": {
          "base_uri": "https://localhost:8080/",
          "height": 68
        },
        "outputId": "b6fd4091-df95-44eb-c9c9-b5aea024825f"
      },
      "source": [
        "# Calculate the mode of the ride count for the urban cities.\n",
        "urban_ride_count.mode()"
      ],
      "execution_count": 36,
      "outputs": [
        {
          "output_type": "execute_result",
          "data": {
            "text/plain": [
              "0    22\n",
              "1    25\n",
              "dtype: int64"
            ]
          },
          "metadata": {
            "tags": []
          },
          "execution_count": 36
        }
      ]
    },
    {
      "cell_type": "code",
      "metadata": {
        "id": "vf8NHdjIse1E",
        "colab_type": "code",
        "colab": {
          "base_uri": "https://localhost:8080/",
          "height": 51
        },
        "outputId": "55b00627-25db-41b3-9cd7-79906a3d9d0b"
      },
      "source": [
        "suburban_ride_count.mode()"
      ],
      "execution_count": 37,
      "outputs": [
        {
          "output_type": "execute_result",
          "data": {
            "text/plain": [
              "0    17\n",
              "dtype: int64"
            ]
          },
          "metadata": {
            "tags": []
          },
          "execution_count": 37
        }
      ]
    },
    {
      "cell_type": "code",
      "metadata": {
        "id": "Xh9009Mns5lr",
        "colab_type": "code",
        "colab": {
          "base_uri": "https://localhost:8080/",
          "height": 68
        },
        "outputId": "0a1bec12-116d-4fc2-8403-65da22b7019f"
      },
      "source": [
        "# Calculate the measures of central tendency for the ride count for the urban cities.\n",
        "mean_urban_ride_count = np.mean(urban_ride_count)\n",
        "print(f\"The mean for the ride counts for urban trips is {mean_urban_ride_count:.2f}.\")\n",
        "\n",
        "median_urban_ride_count = np.median(urban_ride_count)\n",
        "print(f\"The median for the ride counts for urban trips is {median_urban_ride_count}.\")\n",
        "\n",
        "mode_urban_ride_count = sts.mode(urban_ride_count)\n",
        "print(f\"The mode for the ride counts for urban trips is {mode_urban_ride_count}.\")"
      ],
      "execution_count": 39,
      "outputs": [
        {
          "output_type": "stream",
          "text": [
            "The mean for the ride counts for urban trips is 24.62.\n",
            "The median for the ride counts for urban trips is 24.0.\n",
            "The mode for the ride counts for urban trips is ModeResult(mode=array([22]), count=array([7])).\n"
          ],
          "name": "stdout"
        }
      ]
    },
    {
      "cell_type": "code",
      "metadata": {
        "id": "cPx2Y86js9J6",
        "colab_type": "code",
        "colab": {
          "base_uri": "https://localhost:8080/",
          "height": 68
        },
        "outputId": "21055abd-f8fe-4a42-c6e1-2dfa71b3527a"
      },
      "source": [
        "# Calculate the measures of central tendency for the ride count for the urban cities.\n",
        "mean_suburban_ride_count = np.mean(suburban_ride_count)\n",
        "print(f\"The mean for the ride counts for suburban trips is {mean_suburban_ride_count:.2f}.\")\n",
        "\n",
        "median_suburban_ride_count = np.median(suburban_ride_count)\n",
        "print(f\"The median for the ride counts for suburban trips is {median_suburban_ride_count}.\")\n",
        "\n",
        "mode_suburban_ride_count = sts.mode(suburban_ride_count)\n",
        "print(f\"The mode for the ride counts for suburban trips is {mode_suburban_ride_count}.\")"
      ],
      "execution_count": 43,
      "outputs": [
        {
          "output_type": "stream",
          "text": [
            "The mean for the ride counts for suburban trips is 17.36.\n",
            "The median for the ride counts for suburban trips is 17.0.\n",
            "The mode for the ride counts for suburban trips is ModeResult(mode=array([17]), count=array([7])).\n"
          ],
          "name": "stdout"
        }
      ]
    },
    {
      "cell_type": "code",
      "metadata": {
        "id": "ehDo0j_zuH9L",
        "colab_type": "code",
        "colab": {
          "base_uri": "https://localhost:8080/",
          "height": 68
        },
        "outputId": "bb8e077c-038a-4472-e197-7f412f1e1854"
      },
      "source": [
        "# Calculate the measures of central tendency for the ride count for the urban cities.\n",
        "mean_rural_ride_count = np.mean(rural_ride_count)\n",
        "print(f\"The mean for the ride counts for suburban trips is {mean_rural_ride_count:.2f}.\")\n",
        "\n",
        "median_rural_ride_count = np.median(rural_ride_count)\n",
        "print(f\"The median for the ride counts for suburban trips is {median_rural_ride_count}.\")\n",
        "\n",
        "mode_rural_ride_count = sts.mode(rural_ride_count)\n",
        "print(f\"The mode for the ride counts for suburban trips is {mode_rural_ride_count}.\")"
      ],
      "execution_count": 44,
      "outputs": [
        {
          "output_type": "stream",
          "text": [
            "The mean for the ride counts for suburban trips is 6.94.\n",
            "The median for the ride counts for suburban trips is 6.0.\n",
            "The mode for the ride counts for suburban trips is ModeResult(mode=array([6]), count=array([5])).\n"
          ],
          "name": "stdout"
        }
      ]
    },
    {
      "cell_type": "code",
      "metadata": {
        "id": "1nQfCj9ZukuA",
        "colab_type": "code",
        "colab": {
          "base_uri": "https://localhost:8080/",
          "height": 119
        },
        "outputId": "f4c4a4fb-cfbe-4a57-cd26-16e6bf04ff65"
      },
      "source": [
        "# Get the fares for the urban cities.\n",
        "urban_fares = urban_cities_df[\"fare\"]\n",
        "urban_fares.head()"
      ],
      "execution_count": 45,
      "outputs": [
        {
          "output_type": "execute_result",
          "data": {
            "text/plain": [
              "0    13.83\n",
              "1    30.24\n",
              "2    33.44\n",
              "3    23.44\n",
              "4    34.58\n",
              "Name: fare, dtype: float64"
            ]
          },
          "metadata": {
            "tags": []
          },
          "execution_count": 45
        }
      ]
    },
    {
      "cell_type": "code",
      "metadata": {
        "id": "xOD4VhCsvCJC",
        "colab_type": "code",
        "colab": {}
      },
      "source": [
        "# Get the fares for the urban cities.\n",
        "rural_fares = rural_cities_df[\"fare\"]\n",
        "suburban_fares = suburban_cities_df[\"fare\"]"
      ],
      "execution_count": 48,
      "outputs": []
    },
    {
      "cell_type": "code",
      "metadata": {
        "id": "Sw48OaSYuoSq",
        "colab_type": "code",
        "colab": {
          "base_uri": "https://localhost:8080/",
          "height": 68
        },
        "outputId": "21012566-6774-42f7-8f71-099df1e88411"
      },
      "source": [
        "# Calculate the measures of central tendency for the average fare for the urban cities.\n",
        "mean_urban_fares = np.mean(urban_fares)\n",
        "print(f\"The mean fare price for urban trips is ${mean_urban_fares:.2f}.\")\n",
        "\n",
        "median_urban_fares = np.median(urban_fares)\n",
        "print(f\"The median fare price for urban trips is ${median_urban_fares:.2f}.\")\n",
        "\n",
        "mode_urban_fares = sts.mode(urban_fares)\n",
        "print(f\"The mode fare price for urban trips is {mode_urban_fares}.\")"
      ],
      "execution_count": 46,
      "outputs": [
        {
          "output_type": "stream",
          "text": [
            "The mean fare price for urban trips is $24.53.\n",
            "The median fare price for urban trips is $24.64.\n",
            "The mode fare price for urban trips is ModeResult(mode=array([22.86]), count=array([5])).\n"
          ],
          "name": "stdout"
        }
      ]
    },
    {
      "cell_type": "code",
      "metadata": {
        "id": "Mv72Z6QwusS0",
        "colab_type": "code",
        "colab": {
          "base_uri": "https://localhost:8080/",
          "height": 68
        },
        "outputId": "0bc61903-43ff-455d-9e74-9deb01181366"
      },
      "source": [
        "# Calculate the measures of central tendency for the average fare for the urban cities.\n",
        "mean_rural_fares = np.mean(rural_fares)\n",
        "print(f\"The mean fare price for rural trips is ${mean_rural_fares:.2f}.\")\n",
        "\n",
        "median_rural_fares = np.median(rural_fares)\n",
        "print(f\"The median fare price for rural trips is ${median_rural_fares:.2f}.\")\n",
        "\n",
        "mode_rural_fares = sts.mode(rural_fares)\n",
        "print(f\"The mode fare price for rural trips is {mode_rural_fares}.\")"
      ],
      "execution_count": 49,
      "outputs": [
        {
          "output_type": "stream",
          "text": [
            "The mean fare price for rural trips is $34.62.\n",
            "The median fare price for rural trips is $37.05.\n",
            "The mode fare price for rural trips is ModeResult(mode=array([37.05]), count=array([2])).\n"
          ],
          "name": "stdout"
        }
      ]
    },
    {
      "cell_type": "code",
      "metadata": {
        "id": "zkK9sZmQvX11",
        "colab_type": "code",
        "colab": {
          "base_uri": "https://localhost:8080/",
          "height": 68
        },
        "outputId": "66372018-8687-4f6e-d701-fd8b43d9c218"
      },
      "source": [
        "# Calculate the measures of central tendency for the average fare for the urban cities.\n",
        "mean_suburban_fares = np.mean(suburban_fares)\n",
        "print(f\"The mean fare price for suburban trips is ${mean_suburban_fares:.2f}.\")\n",
        "\n",
        "median_suburban_fares = np.median(suburban_fares)\n",
        "print(f\"The median fare price for suburban trips is ${median_suburban_fares:.2f}.\")\n",
        "\n",
        "mode_suburban_fares = sts.mode(suburban_fares)\n",
        "print(f\"The mode fare price for suburban trips is {mode_suburban_fares}.\")"
      ],
      "execution_count": 50,
      "outputs": [
        {
          "output_type": "stream",
          "text": [
            "The mean fare price for suburban trips is $30.97.\n",
            "The median fare price for suburban trips is $30.75.\n",
            "The mode fare price for suburban trips is ModeResult(mode=array([17.99]), count=array([3])).\n"
          ],
          "name": "stdout"
        }
      ]
    },
    {
      "cell_type": "code",
      "metadata": {
        "id": "lZebf3LSvm8L",
        "colab_type": "code",
        "colab": {
          "base_uri": "https://localhost:8080/",
          "height": 119
        },
        "outputId": "e151fb07-a320-448c-9ea4-3c138f59250c"
      },
      "source": [
        "# Get the driver count data from the urban cities.\n",
        "urban_drivers = urban_cities_df['driver_count']\n",
        "urban_drivers.head()"
      ],
      "execution_count": 51,
      "outputs": [
        {
          "output_type": "execute_result",
          "data": {
            "text/plain": [
              "0     5\n",
              "1    72\n",
              "2    57\n",
              "3    34\n",
              "4    46\n",
              "Name: driver_count, dtype: int64"
            ]
          },
          "metadata": {
            "tags": []
          },
          "execution_count": 51
        }
      ]
    },
    {
      "cell_type": "code",
      "metadata": {
        "id": "BakpROLcwWUS",
        "colab_type": "code",
        "colab": {
          "base_uri": "https://localhost:8080/",
          "height": 34
        },
        "outputId": "08140038-eb34-4ded-d08e-711bfb3968c1"
      },
      "source": [
        "suburban_drivers = suburban_cities_df['driver_count']\n",
        "suburban_drivers.mean()"
      ],
      "execution_count": 54,
      "outputs": [
        {
          "output_type": "execute_result",
          "data": {
            "text/plain": [
              "13.712"
            ]
          },
          "metadata": {
            "tags": []
          },
          "execution_count": 54
        }
      ]
    },
    {
      "cell_type": "code",
      "metadata": {
        "id": "lq5YvagewtWS",
        "colab_type": "code",
        "colab": {
          "base_uri": "https://localhost:8080/",
          "height": 119
        },
        "outputId": "9c2a5eab-7b5e-4832-e3b1-15c01e1f2c11"
      },
      "source": [
        "rural_drivers = rural_cities_df['driver_count']\n",
        "rural_drivers.head()"
      ],
      "execution_count": 55,
      "outputs": [
        {
          "output_type": "execute_result",
          "data": {
            "text/plain": [
              "2250    9\n",
              "2251    8\n",
              "2252    6\n",
              "2253    2\n",
              "2254    2\n",
              "Name: driver_count, dtype: int64"
            ]
          },
          "metadata": {
            "tags": []
          },
          "execution_count": 55
        }
      ]
    },
    {
      "cell_type": "code",
      "metadata": {
        "id": "bYbh7nGA_T79",
        "colab_type": "code",
        "colab": {
          "base_uri": "https://localhost:8080/",
          "height": 281
        },
        "outputId": "9343b47b-648c-4e48-8116-5729b7e253ec"
      },
      "source": [
        "# Create a box-and-whisker plot for the urban cities ride count.\n",
        "x_labels = [\"Urban\"]\n",
        "fig, ax = plt.subplots()\n",
        "ax.boxplot(urban_ride_count, labels=x_labels)\n",
        "# Add the title, y-axis label and grid.\n",
        "ax.set_title('Ride Count Data (2019)')\n",
        "ax.set_ylabel('Number of Rides')\n",
        "ax.set_yticks(np.arange(10, 41, step=2.0))\n",
        "ax.grid()\n",
        "plt.show()"
      ],
      "execution_count": 56,
      "outputs": [
        {
          "output_type": "display_data",
          "data": {
            "image/png": "[encoded data removed]",
            "text/plain": [
              "<Figure size 432x288 with 1 Axes>"
            ]
          },
          "metadata": {
            "tags": [],
            "needs_background": "light"
          }
        }
      ]
    },
    {
      "cell_type": "code",
      "metadata": {
        "id": "2fQcRmJp_a2p",
        "colab_type": "code",
        "colab": {
          "base_uri": "https://localhost:8080/",
          "height": 281
        },
        "outputId": "0e17599f-695e-4fd9-e6fb-5852a596519a"
      },
      "source": [
        "# Create a box-and-whisker plot for the urban cities ride count.\n",
        "x_labels = [\"Suburban\"]\n",
        "fig, ax = plt.subplots()\n",
        "ax.boxplot(suburban_ride_count, labels=x_labels)\n",
        "# Add the title, y-axis label and grid.\n",
        "ax.set_title('Ride Count Data (2019)')\n",
        "ax.set_ylabel('Number of Rides')\n",
        "ax.set_yticks(np.arange(10, 41, step=2.0))\n",
        "ax.grid()\n",
        "plt.show()"
      ],
      "execution_count": 57,
      "outputs": [
        {
          "output_type": "display_data",
          "data": {
            "image/png": "[encoded data removed]",
            "text/plain": [
              "<Figure size 432x288 with 1 Axes>"
            ]
          },
          "metadata": {
            "tags": [],
            "needs_background": "light"
          }
        }
      ]
    },
    {
      "cell_type": "code",
      "metadata": {
        "id": "rbFLNoNS_gAB",
        "colab_type": "code",
        "colab": {
          "base_uri": "https://localhost:8080/",
          "height": 281
        },
        "outputId": "0b95ef84-b9c7-4f13-bd8e-510d8bca5c25"
      },
      "source": [
        "# Create a box-and-whisker plot for the urban cities ride count.\n",
        "x_labels = [\"Rural\"]\n",
        "fig, ax = plt.subplots()\n",
        "ax.boxplot(rural_ride_count, labels=x_labels)\n",
        "# Add the title, y-axis label and grid.\n",
        "ax.set_title('Ride Count Data (2019)')\n",
        "ax.set_ylabel('Number of Rides')\n",
        "ax.set_yticks(np.arange(10, 41, step=2.0))\n",
        "ax.grid()\n",
        "plt.show()"
      ],
      "execution_count": 58,
      "outputs": [
        {
          "output_type": "display_data",
          "data": {
            "image/png": "[encoded data removed]",
            "text/plain": [
              "<Figure size 432x288 with 1 Axes>"
            ]
          },
          "metadata": {
            "tags": [],
            "needs_background": "light"
          }
        }
      ]
    },
    {
      "cell_type": "code",
      "metadata": {
        "id": "Jaj7PnRjBEzF",
        "colab_type": "code",
        "colab": {
          "base_uri": "https://localhost:8080/",
          "height": 413
        },
        "outputId": "b21079af-dc4e-414a-e479-5f841feb6974"
      },
      "source": [
        "# Add all ride count box-and-whisker plots to the same graph.\n",
        "x_labels = [\"Urban\", \"Suburban\",\"Rural\"]\n",
        "ride_count_data = [urban_ride_count, suburban_ride_count, rural_ride_count]\n",
        "fig, ax = plt.subplots(figsize=(10, 6))\n",
        "ax.set_title('Ride Count Data (2019)',fontsize=20)\n",
        "ax.set_ylabel('Number of Rides',fontsize=14)\n",
        "ax.set_xlabel(\"City Types\",fontsize=14)\n",
        "ax.boxplot(ride_count_data, labels=x_labels)\n",
        "ax.set_yticks(np.arange(0, 45, step=3.0))\n",
        "ax.grid()\n",
        "# Save the figure.\n",
        "plt.savefig(\"Fig2.png\")\n",
        "plt.show()"
      ],
      "execution_count": 60,
      "outputs": [
        {
          "output_type": "display_data",
          "data": {
            "image/png": "[encoded data removed]",
            "text/plain": [
              "<Figure size 720x432 with 1 Axes>"
            ]
          },
          "metadata": {
            "tags": [],
            "needs_background": "light"
          }
        }
      ]
    },
    {
      "cell_type": "code",
      "metadata": {
        "id": "mI8fD6aNBTGZ",
        "colab_type": "code",
        "colab": {
          "base_uri": "https://localhost:8080/",
          "height": 34
        },
        "outputId": "24894a3f-dedc-4926-bfba-ffd7a4014edf"
      },
      "source": [
        "# Get the city that matches 39.\n",
        "urban_city_outlier = urban_ride_count[urban_ride_count==39].index[0]\n",
        "print(f\"{urban_city_outlier} has the highest rider count.\")"
      ],
      "execution_count": 61,
      "outputs": [
        {
          "output_type": "stream",
          "text": [
            "West Angela has the highest rider count.\n"
          ],
          "name": "stdout"
        }
      ]
    },
    {
      "cell_type": "code",
      "metadata": {
        "id": "eNgJZoFMBcBy",
        "colab_type": "code",
        "colab": {
          "base_uri": "https://localhost:8080/",
          "height": 451
        },
        "outputId": "57a88bb3-5316-4f07-96b2-03755d546c21"
      },
      "source": [
        "# Create a box-and-whisker plot for the urban fare data.\n",
        "x_labels = [\"Urban\"]\n",
        "fig, ax = plt.subplots()\n",
        "ax.boxplot(urban_fares, labels=x_labels)\n",
        "# Add the title, y-axis label and grid.\n",
        "ax.set_title('Ride Fare Data (2019)')\n",
        "ax.set_ylabel('Fare($USD)')\n",
        "ax.set_yticks(np.arange(0, 51, step=5.0))\n",
        "ax.grid()\n",
        "plt.show()\n",
        "print(\"Summary Statistics\")\n",
        "urban_fares.describe()"
      ],
      "execution_count": 62,
      "outputs": [
        {
          "output_type": "display_data",
          "data": {
            "image/png": "[encoded data removed]",
            "text/plain": [
              "<Figure size 432x288 with 1 Axes>"
            ]
          },
          "metadata": {
            "tags": [],
            "needs_background": "light"
          }
        },
        {
          "output_type": "stream",
          "text": [
            "Summary Statistics\n"
          ],
          "name": "stdout"
        },
        {
          "output_type": "execute_result",
          "data": {
            "text/plain": [
              "count    1625.000000\n",
              "mean       24.525772\n",
              "std        11.738649\n",
              "min         4.050000\n",
              "25%        14.550000\n",
              "50%        24.640000\n",
              "75%        34.580000\n",
              "max        44.970000\n",
              "Name: fare, dtype: float64"
            ]
          },
          "metadata": {
            "tags": []
          },
          "execution_count": 62
        }
      ]
    },
    {
      "cell_type": "code",
      "metadata": {
        "id": "H13O1OKVBjAJ",
        "colab_type": "code",
        "colab": {
          "base_uri": "https://localhost:8080/",
          "height": 451
        },
        "outputId": "d8115015-c97d-4b9e-fef5-9e49d2b3b4cd"
      },
      "source": [
        "# Create the box-and-whisker plot for the urban driver count data.\n",
        "x_labels = [\"Urban\"]\n",
        "fig, ax = plt.subplots()\n",
        "ax.boxplot(urban_drivers,labels=x_labels)\n",
        "# Add the title, y-axis label and grid.\n",
        "ax.set_title('Driver Count Data (2019)')\n",
        "ax.set_ylabel('Number of Drivers)')\n",
        "ax.set_yticks(np.arange(0, 90, step=5.0))\n",
        "ax.grid()\n",
        "plt.show()\n",
        "print(\"Summary Statistics\")\n",
        "urban_drivers.describe()"
      ],
      "execution_count": 63,
      "outputs": [
        {
          "output_type": "display_data",
          "data": {
            "image/png": "[encoded data removed]",
            "text/plain": [
              "<Figure size 432x288 with 1 Axes>"
            ]
          },
          "metadata": {
            "tags": [],
            "needs_background": "light"
          }
        },
        {
          "output_type": "stream",
          "text": [
            "Summary Statistics\n"
          ],
          "name": "stdout"
        },
        {
          "output_type": "execute_result",
          "data": {
            "text/plain": [
              "count    1625.000000\n",
              "mean       36.678154\n",
              "std        20.075545\n",
              "min         3.000000\n",
              "25%        22.000000\n",
              "50%        37.000000\n",
              "75%        52.000000\n",
              "max        73.000000\n",
              "Name: driver_count, dtype: float64"
            ]
          },
          "metadata": {
            "tags": []
          },
          "execution_count": 63
        }
      ]
    }
  ]
}